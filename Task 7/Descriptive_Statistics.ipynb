{
  "nbformat": 4,
  "nbformat_minor": 0,
  "metadata": {
    "colab": {
      "name": "Descriptive_Statistics.ipynb",
      "provenance": [],
      "collapsed_sections": []
    },
    "kernelspec": {
      "name": "python3",
      "display_name": "Python 3"
    },
    "language_info": {
      "name": "python"
    }
  },
  "cells": [
    {
      "cell_type": "markdown",
      "source": [
        "# Descriptive Statistics"
      ],
      "metadata": {
        "id": "4LzUXDQ7r1cJ"
      }
    },
    {
      "cell_type": "markdown",
      "source": [
        "# What is Descriptive Stastics:\n",
        "Descriptive statistics summarize and organize characteristics of a data set.\n",
        "# Types of descriptive statistics\n",
        "There are 3 main types of descriptive statistics:\n",
        "\n",
        "1.The distribution concerns the frequency of each value.\n",
        "\n",
        "2.The central tendency concerns the averages of the values.\n",
        "\n",
        "3.The variability or dispersion concerns how spread out the values are.\n",
        "\n",
        "We can apply these to assess only one variable at a time, in univariate analysis, or to compare two or more, in bivariate and multivariate analysis."
      ],
      "metadata": {
        "id": "WQVvJR9Sr0F1"
      }
    },
    {
      "cell_type": "markdown",
      "source": [
        "# 1.Frequency distribution\n",
        "A data set is made up of a distribution of values, or scores. In tables or graphs, you can summarize the frequency of every possible value of a variable in numbers or percentages.\n",
        "\n",
        "a) Simple frequency distribution table\n",
        "\n",
        "For the variable of gender, you list all possible answers on the left hand column. You count the number or percentage of responses for each answer and display it on the right hand column.\n",
        "\n",
        "b) Grouped frequency distribution table\n",
        "\n",
        "In a grouped frequency distribution, you can group numerical response values and add up the number of responses for each group. You can also convert each of these numbers to percentages."
      ],
      "metadata": {
        "id": "JTiYQN7lrsD9"
      }
    },
    {
      "cell_type": "markdown",
      "source": [
        "# 2. Measures of central tendency\n",
        "Measures of central tendency estimate the center, or average, of a data set. The mean, median and mode are 3 ways of finding the average."
      ],
      "metadata": {
        "id": "59KEzKvsrmuh"
      }
    },
    {
      "cell_type": "markdown",
      "source": [
        "# a) Mean\n",
        "The mean, or M, is the most commonly used method for finding the average.\n",
        "\n",
        "To find the mean, simply add up all response values and divide the sum by the total number of responses. The total number of responses or observations is called N.\n",
        "# Formula\n",
        "$$Mean(M)= \\frac{\\sum_{i=0}^{N} M_{i}}{N}$$\n"
      ],
      "metadata": {
        "id": "zcGXCryerbiP"
      }
    },
    {
      "cell_type": "code",
      "source": [
        "# Import required libraries\n",
        "import pandas as pd\n",
        "import numpy as np\n",
        "import seaborn as sns\n",
        "import matplotlib.pyplot as plt\n",
        "from scipy import stats\n",
        "from scipy.stats import boxcox \n",
        "from scipy.stats import norm\n",
        "import warnings\n",
        "warnings.filterwarnings('ignore')"
      ],
      "metadata": {
        "id": "WdOowJmQyaIp"
      },
      "execution_count": 4,
      "outputs": []
    },
    {
      "cell_type": "code",
      "source": [
        "df = pd.read_csv(\"data.csv\")"
      ],
      "metadata": {
        "id": "KfZXJX1Ry_qj"
      },
      "execution_count": 5,
      "outputs": []
    },
    {
      "cell_type": "code",
      "source": [
        "df.head()"
      ],
      "metadata": {
        "colab": {
          "base_uri": "https://localhost:8080/",
          "height": 206
        },
        "id": "qMxcBj4hzQZq",
        "outputId": "c4530121-3e2d-44b0-d207-07ab8f9961e7"
      },
      "execution_count": 6,
      "outputs": [
        {
          "output_type": "execute_result",
          "data": {
            "text/plain": [
              "   Mthly_HH_Income  Mthly_HH_Expense  No_of_Fly_Members  Emi_or_Rent_Amt  \\\n",
              "0             5000              8000                  3             2000   \n",
              "1             6000              7000                  2             3000   \n",
              "2            10000              4500                  2                0   \n",
              "3            10000              2000                  1                0   \n",
              "4            12500             12000                  2             3000   \n",
              "\n",
              "   Annual_HH_Income Highest_Qualified_Member  No_of_Earning_Members  \n",
              "0             64200           Under-Graduate                      1  \n",
              "1             79920               Illiterate                      1  \n",
              "2            112800           Under-Graduate                      1  \n",
              "3             97200               Illiterate                      1  \n",
              "4            147000                 Graduate                      1  "
            ],
            "text/html": [
              "\n",
              "  <div id=\"df-a0b1057c-abe2-4b6d-bfa9-8d4a9c76a1db\">\n",
              "    <div class=\"colab-df-container\">\n",
              "      <div>\n",
              "<style scoped>\n",
              "    .dataframe tbody tr th:only-of-type {\n",
              "        vertical-align: middle;\n",
              "    }\n",
              "\n",
              "    .dataframe tbody tr th {\n",
              "        vertical-align: top;\n",
              "    }\n",
              "\n",
              "    .dataframe thead th {\n",
              "        text-align: right;\n",
              "    }\n",
              "</style>\n",
              "<table border=\"1\" class=\"dataframe\">\n",
              "  <thead>\n",
              "    <tr style=\"text-align: right;\">\n",
              "      <th></th>\n",
              "      <th>Mthly_HH_Income</th>\n",
              "      <th>Mthly_HH_Expense</th>\n",
              "      <th>No_of_Fly_Members</th>\n",
              "      <th>Emi_or_Rent_Amt</th>\n",
              "      <th>Annual_HH_Income</th>\n",
              "      <th>Highest_Qualified_Member</th>\n",
              "      <th>No_of_Earning_Members</th>\n",
              "    </tr>\n",
              "  </thead>\n",
              "  <tbody>\n",
              "    <tr>\n",
              "      <th>0</th>\n",
              "      <td>5000</td>\n",
              "      <td>8000</td>\n",
              "      <td>3</td>\n",
              "      <td>2000</td>\n",
              "      <td>64200</td>\n",
              "      <td>Under-Graduate</td>\n",
              "      <td>1</td>\n",
              "    </tr>\n",
              "    <tr>\n",
              "      <th>1</th>\n",
              "      <td>6000</td>\n",
              "      <td>7000</td>\n",
              "      <td>2</td>\n",
              "      <td>3000</td>\n",
              "      <td>79920</td>\n",
              "      <td>Illiterate</td>\n",
              "      <td>1</td>\n",
              "    </tr>\n",
              "    <tr>\n",
              "      <th>2</th>\n",
              "      <td>10000</td>\n",
              "      <td>4500</td>\n",
              "      <td>2</td>\n",
              "      <td>0</td>\n",
              "      <td>112800</td>\n",
              "      <td>Under-Graduate</td>\n",
              "      <td>1</td>\n",
              "    </tr>\n",
              "    <tr>\n",
              "      <th>3</th>\n",
              "      <td>10000</td>\n",
              "      <td>2000</td>\n",
              "      <td>1</td>\n",
              "      <td>0</td>\n",
              "      <td>97200</td>\n",
              "      <td>Illiterate</td>\n",
              "      <td>1</td>\n",
              "    </tr>\n",
              "    <tr>\n",
              "      <th>4</th>\n",
              "      <td>12500</td>\n",
              "      <td>12000</td>\n",
              "      <td>2</td>\n",
              "      <td>3000</td>\n",
              "      <td>147000</td>\n",
              "      <td>Graduate</td>\n",
              "      <td>1</td>\n",
              "    </tr>\n",
              "  </tbody>\n",
              "</table>\n",
              "</div>\n",
              "      <button class=\"colab-df-convert\" onclick=\"convertToInteractive('df-a0b1057c-abe2-4b6d-bfa9-8d4a9c76a1db')\"\n",
              "              title=\"Convert this dataframe to an interactive table.\"\n",
              "              style=\"display:none;\">\n",
              "        \n",
              "  <svg xmlns=\"http://www.w3.org/2000/svg\" height=\"24px\"viewBox=\"0 0 24 24\"\n",
              "       width=\"24px\">\n",
              "    <path d=\"M0 0h24v24H0V0z\" fill=\"none\"/>\n",
              "    <path d=\"M18.56 5.44l.94 2.06.94-2.06 2.06-.94-2.06-.94-.94-2.06-.94 2.06-2.06.94zm-11 1L8.5 8.5l.94-2.06 2.06-.94-2.06-.94L8.5 2.5l-.94 2.06-2.06.94zm10 10l.94 2.06.94-2.06 2.06-.94-2.06-.94-.94-2.06-.94 2.06-2.06.94z\"/><path d=\"M17.41 7.96l-1.37-1.37c-.4-.4-.92-.59-1.43-.59-.52 0-1.04.2-1.43.59L10.3 9.45l-7.72 7.72c-.78.78-.78 2.05 0 2.83L4 21.41c.39.39.9.59 1.41.59.51 0 1.02-.2 1.41-.59l7.78-7.78 2.81-2.81c.8-.78.8-2.07 0-2.86zM5.41 20L4 18.59l7.72-7.72 1.47 1.35L5.41 20z\"/>\n",
              "  </svg>\n",
              "      </button>\n",
              "      \n",
              "  <style>\n",
              "    .colab-df-container {\n",
              "      display:flex;\n",
              "      flex-wrap:wrap;\n",
              "      gap: 12px;\n",
              "    }\n",
              "\n",
              "    .colab-df-convert {\n",
              "      background-color: #E8F0FE;\n",
              "      border: none;\n",
              "      border-radius: 50%;\n",
              "      cursor: pointer;\n",
              "      display: none;\n",
              "      fill: #1967D2;\n",
              "      height: 32px;\n",
              "      padding: 0 0 0 0;\n",
              "      width: 32px;\n",
              "    }\n",
              "\n",
              "    .colab-df-convert:hover {\n",
              "      background-color: #E2EBFA;\n",
              "      box-shadow: 0px 1px 2px rgba(60, 64, 67, 0.3), 0px 1px 3px 1px rgba(60, 64, 67, 0.15);\n",
              "      fill: #174EA6;\n",
              "    }\n",
              "\n",
              "    [theme=dark] .colab-df-convert {\n",
              "      background-color: #3B4455;\n",
              "      fill: #D2E3FC;\n",
              "    }\n",
              "\n",
              "    [theme=dark] .colab-df-convert:hover {\n",
              "      background-color: #434B5C;\n",
              "      box-shadow: 0px 1px 3px 1px rgba(0, 0, 0, 0.15);\n",
              "      filter: drop-shadow(0px 1px 2px rgba(0, 0, 0, 0.3));\n",
              "      fill: #FFFFFF;\n",
              "    }\n",
              "  </style>\n",
              "\n",
              "      <script>\n",
              "        const buttonEl =\n",
              "          document.querySelector('#df-a0b1057c-abe2-4b6d-bfa9-8d4a9c76a1db button.colab-df-convert');\n",
              "        buttonEl.style.display =\n",
              "          google.colab.kernel.accessAllowed ? 'block' : 'none';\n",
              "\n",
              "        async function convertToInteractive(key) {\n",
              "          const element = document.querySelector('#df-a0b1057c-abe2-4b6d-bfa9-8d4a9c76a1db');\n",
              "          const dataTable =\n",
              "            await google.colab.kernel.invokeFunction('convertToInteractive',\n",
              "                                                     [key], {});\n",
              "          if (!dataTable) return;\n",
              "\n",
              "          const docLinkHtml = 'Like what you see? Visit the ' +\n",
              "            '<a target=\"_blank\" href=https://colab.research.google.com/notebooks/data_table.ipynb>data table notebook</a>'\n",
              "            + ' to learn more about interactive tables.';\n",
              "          element.innerHTML = '';\n",
              "          dataTable['output_type'] = 'display_data';\n",
              "          await google.colab.output.renderOutput(dataTable, element);\n",
              "          const docLink = document.createElement('div');\n",
              "          docLink.innerHTML = docLinkHtml;\n",
              "          element.appendChild(docLink);\n",
              "        }\n",
              "      </script>\n",
              "    </div>\n",
              "  </div>\n",
              "  "
            ]
          },
          "metadata": {},
          "execution_count": 6
        }
      ]
    },
    {
      "cell_type": "code",
      "source": [
        "df.tail()"
      ],
      "metadata": {
        "colab": {
          "base_uri": "https://localhost:8080/",
          "height": 206
        },
        "id": "jUlKNNIFzStT",
        "outputId": "0a2496d9-a527-48fd-91e6-d283fcea51bb"
      },
      "execution_count": 7,
      "outputs": [
        {
          "output_type": "execute_result",
          "data": {
            "text/plain": [
              "    Mthly_HH_Income  Mthly_HH_Expense  No_of_Fly_Members  Emi_or_Rent_Amt  \\\n",
              "45            90000             48000                  7                0   \n",
              "46            98000             25000                  5                0   \n",
              "47           100000             30000                  6                0   \n",
              "48           100000             50000                  4            20000   \n",
              "49           100000             40000                  6            10000   \n",
              "\n",
              "    Annual_HH_Income Highest_Qualified_Member  No_of_Earning_Members  \n",
              "45            885600            Post-Graduate                      3  \n",
              "46           1152480             Professional                      2  \n",
              "47           1404000                 Graduate                      3  \n",
              "48           1032000             Professional                      2  \n",
              "49           1320000            Post-Graduate                      1  "
            ],
            "text/html": [
              "\n",
              "  <div id=\"df-841724e1-44d7-4c0e-9207-3cfed9c777f4\">\n",
              "    <div class=\"colab-df-container\">\n",
              "      <div>\n",
              "<style scoped>\n",
              "    .dataframe tbody tr th:only-of-type {\n",
              "        vertical-align: middle;\n",
              "    }\n",
              "\n",
              "    .dataframe tbody tr th {\n",
              "        vertical-align: top;\n",
              "    }\n",
              "\n",
              "    .dataframe thead th {\n",
              "        text-align: right;\n",
              "    }\n",
              "</style>\n",
              "<table border=\"1\" class=\"dataframe\">\n",
              "  <thead>\n",
              "    <tr style=\"text-align: right;\">\n",
              "      <th></th>\n",
              "      <th>Mthly_HH_Income</th>\n",
              "      <th>Mthly_HH_Expense</th>\n",
              "      <th>No_of_Fly_Members</th>\n",
              "      <th>Emi_or_Rent_Amt</th>\n",
              "      <th>Annual_HH_Income</th>\n",
              "      <th>Highest_Qualified_Member</th>\n",
              "      <th>No_of_Earning_Members</th>\n",
              "    </tr>\n",
              "  </thead>\n",
              "  <tbody>\n",
              "    <tr>\n",
              "      <th>45</th>\n",
              "      <td>90000</td>\n",
              "      <td>48000</td>\n",
              "      <td>7</td>\n",
              "      <td>0</td>\n",
              "      <td>885600</td>\n",
              "      <td>Post-Graduate</td>\n",
              "      <td>3</td>\n",
              "    </tr>\n",
              "    <tr>\n",
              "      <th>46</th>\n",
              "      <td>98000</td>\n",
              "      <td>25000</td>\n",
              "      <td>5</td>\n",
              "      <td>0</td>\n",
              "      <td>1152480</td>\n",
              "      <td>Professional</td>\n",
              "      <td>2</td>\n",
              "    </tr>\n",
              "    <tr>\n",
              "      <th>47</th>\n",
              "      <td>100000</td>\n",
              "      <td>30000</td>\n",
              "      <td>6</td>\n",
              "      <td>0</td>\n",
              "      <td>1404000</td>\n",
              "      <td>Graduate</td>\n",
              "      <td>3</td>\n",
              "    </tr>\n",
              "    <tr>\n",
              "      <th>48</th>\n",
              "      <td>100000</td>\n",
              "      <td>50000</td>\n",
              "      <td>4</td>\n",
              "      <td>20000</td>\n",
              "      <td>1032000</td>\n",
              "      <td>Professional</td>\n",
              "      <td>2</td>\n",
              "    </tr>\n",
              "    <tr>\n",
              "      <th>49</th>\n",
              "      <td>100000</td>\n",
              "      <td>40000</td>\n",
              "      <td>6</td>\n",
              "      <td>10000</td>\n",
              "      <td>1320000</td>\n",
              "      <td>Post-Graduate</td>\n",
              "      <td>1</td>\n",
              "    </tr>\n",
              "  </tbody>\n",
              "</table>\n",
              "</div>\n",
              "      <button class=\"colab-df-convert\" onclick=\"convertToInteractive('df-841724e1-44d7-4c0e-9207-3cfed9c777f4')\"\n",
              "              title=\"Convert this dataframe to an interactive table.\"\n",
              "              style=\"display:none;\">\n",
              "        \n",
              "  <svg xmlns=\"http://www.w3.org/2000/svg\" height=\"24px\"viewBox=\"0 0 24 24\"\n",
              "       width=\"24px\">\n",
              "    <path d=\"M0 0h24v24H0V0z\" fill=\"none\"/>\n",
              "    <path d=\"M18.56 5.44l.94 2.06.94-2.06 2.06-.94-2.06-.94-.94-2.06-.94 2.06-2.06.94zm-11 1L8.5 8.5l.94-2.06 2.06-.94-2.06-.94L8.5 2.5l-.94 2.06-2.06.94zm10 10l.94 2.06.94-2.06 2.06-.94-2.06-.94-.94-2.06-.94 2.06-2.06.94z\"/><path d=\"M17.41 7.96l-1.37-1.37c-.4-.4-.92-.59-1.43-.59-.52 0-1.04.2-1.43.59L10.3 9.45l-7.72 7.72c-.78.78-.78 2.05 0 2.83L4 21.41c.39.39.9.59 1.41.59.51 0 1.02-.2 1.41-.59l7.78-7.78 2.81-2.81c.8-.78.8-2.07 0-2.86zM5.41 20L4 18.59l7.72-7.72 1.47 1.35L5.41 20z\"/>\n",
              "  </svg>\n",
              "      </button>\n",
              "      \n",
              "  <style>\n",
              "    .colab-df-container {\n",
              "      display:flex;\n",
              "      flex-wrap:wrap;\n",
              "      gap: 12px;\n",
              "    }\n",
              "\n",
              "    .colab-df-convert {\n",
              "      background-color: #E8F0FE;\n",
              "      border: none;\n",
              "      border-radius: 50%;\n",
              "      cursor: pointer;\n",
              "      display: none;\n",
              "      fill: #1967D2;\n",
              "      height: 32px;\n",
              "      padding: 0 0 0 0;\n",
              "      width: 32px;\n",
              "    }\n",
              "\n",
              "    .colab-df-convert:hover {\n",
              "      background-color: #E2EBFA;\n",
              "      box-shadow: 0px 1px 2px rgba(60, 64, 67, 0.3), 0px 1px 3px 1px rgba(60, 64, 67, 0.15);\n",
              "      fill: #174EA6;\n",
              "    }\n",
              "\n",
              "    [theme=dark] .colab-df-convert {\n",
              "      background-color: #3B4455;\n",
              "      fill: #D2E3FC;\n",
              "    }\n",
              "\n",
              "    [theme=dark] .colab-df-convert:hover {\n",
              "      background-color: #434B5C;\n",
              "      box-shadow: 0px 1px 3px 1px rgba(0, 0, 0, 0.15);\n",
              "      filter: drop-shadow(0px 1px 2px rgba(0, 0, 0, 0.3));\n",
              "      fill: #FFFFFF;\n",
              "    }\n",
              "  </style>\n",
              "\n",
              "      <script>\n",
              "        const buttonEl =\n",
              "          document.querySelector('#df-841724e1-44d7-4c0e-9207-3cfed9c777f4 button.colab-df-convert');\n",
              "        buttonEl.style.display =\n",
              "          google.colab.kernel.accessAllowed ? 'block' : 'none';\n",
              "\n",
              "        async function convertToInteractive(key) {\n",
              "          const element = document.querySelector('#df-841724e1-44d7-4c0e-9207-3cfed9c777f4');\n",
              "          const dataTable =\n",
              "            await google.colab.kernel.invokeFunction('convertToInteractive',\n",
              "                                                     [key], {});\n",
              "          if (!dataTable) return;\n",
              "\n",
              "          const docLinkHtml = 'Like what you see? Visit the ' +\n",
              "            '<a target=\"_blank\" href=https://colab.research.google.com/notebooks/data_table.ipynb>data table notebook</a>'\n",
              "            + ' to learn more about interactive tables.';\n",
              "          element.innerHTML = '';\n",
              "          dataTable['output_type'] = 'display_data';\n",
              "          await google.colab.output.renderOutput(dataTable, element);\n",
              "          const docLink = document.createElement('div');\n",
              "          docLink.innerHTML = docLinkHtml;\n",
              "          element.appendChild(docLink);\n",
              "        }\n",
              "      </script>\n",
              "    </div>\n",
              "  </div>\n",
              "  "
            ]
          },
          "metadata": {},
          "execution_count": 7
        }
      ]
    },
    {
      "cell_type": "code",
      "source": [
        "df.shape"
      ],
      "metadata": {
        "colab": {
          "base_uri": "https://localhost:8080/"
        },
        "id": "nRlot7Z-zUxu",
        "outputId": "14522633-77e2-4777-e043-032a4c5730c4"
      },
      "execution_count": 8,
      "outputs": [
        {
          "output_type": "execute_result",
          "data": {
            "text/plain": [
              "(50, 7)"
            ]
          },
          "metadata": {},
          "execution_count": 8
        }
      ]
    },
    {
      "cell_type": "code",
      "source": [
        "df.describe()"
      ],
      "metadata": {
        "colab": {
          "base_uri": "https://localhost:8080/",
          "height": 300
        },
        "id": "aG7rmTvVzYk4",
        "outputId": "fc7c7e75-fe0a-4192-f431-fd52e8190dcf"
      },
      "execution_count": 9,
      "outputs": [
        {
          "output_type": "execute_result",
          "data": {
            "text/plain": [
              "       Mthly_HH_Income  Mthly_HH_Expense  No_of_Fly_Members  Emi_or_Rent_Amt  \\\n",
              "count        50.000000         50.000000          50.000000        50.000000   \n",
              "mean      41558.000000      18818.000000           4.060000      3060.000000   \n",
              "std       26097.908979      12090.216824           1.517382      6241.434948   \n",
              "min        5000.000000       2000.000000           1.000000         0.000000   \n",
              "25%       23550.000000      10000.000000           3.000000         0.000000   \n",
              "50%       35000.000000      15500.000000           4.000000         0.000000   \n",
              "75%       50375.000000      25000.000000           5.000000      3500.000000   \n",
              "max      100000.000000      50000.000000           7.000000     35000.000000   \n",
              "\n",
              "       Annual_HH_Income  No_of_Earning_Members  \n",
              "count      5.000000e+01              50.000000  \n",
              "mean       4.900190e+05               1.460000  \n",
              "std        3.201358e+05               0.734291  \n",
              "min        6.420000e+04               1.000000  \n",
              "25%        2.587500e+05               1.000000  \n",
              "50%        4.474200e+05               1.000000  \n",
              "75%        5.947200e+05               2.000000  \n",
              "max        1.404000e+06               4.000000  "
            ],
            "text/html": [
              "\n",
              "  <div id=\"df-456d3745-7b09-43ae-8dc6-793eee4f442a\">\n",
              "    <div class=\"colab-df-container\">\n",
              "      <div>\n",
              "<style scoped>\n",
              "    .dataframe tbody tr th:only-of-type {\n",
              "        vertical-align: middle;\n",
              "    }\n",
              "\n",
              "    .dataframe tbody tr th {\n",
              "        vertical-align: top;\n",
              "    }\n",
              "\n",
              "    .dataframe thead th {\n",
              "        text-align: right;\n",
              "    }\n",
              "</style>\n",
              "<table border=\"1\" class=\"dataframe\">\n",
              "  <thead>\n",
              "    <tr style=\"text-align: right;\">\n",
              "      <th></th>\n",
              "      <th>Mthly_HH_Income</th>\n",
              "      <th>Mthly_HH_Expense</th>\n",
              "      <th>No_of_Fly_Members</th>\n",
              "      <th>Emi_or_Rent_Amt</th>\n",
              "      <th>Annual_HH_Income</th>\n",
              "      <th>No_of_Earning_Members</th>\n",
              "    </tr>\n",
              "  </thead>\n",
              "  <tbody>\n",
              "    <tr>\n",
              "      <th>count</th>\n",
              "      <td>50.000000</td>\n",
              "      <td>50.000000</td>\n",
              "      <td>50.000000</td>\n",
              "      <td>50.000000</td>\n",
              "      <td>5.000000e+01</td>\n",
              "      <td>50.000000</td>\n",
              "    </tr>\n",
              "    <tr>\n",
              "      <th>mean</th>\n",
              "      <td>41558.000000</td>\n",
              "      <td>18818.000000</td>\n",
              "      <td>4.060000</td>\n",
              "      <td>3060.000000</td>\n",
              "      <td>4.900190e+05</td>\n",
              "      <td>1.460000</td>\n",
              "    </tr>\n",
              "    <tr>\n",
              "      <th>std</th>\n",
              "      <td>26097.908979</td>\n",
              "      <td>12090.216824</td>\n",
              "      <td>1.517382</td>\n",
              "      <td>6241.434948</td>\n",
              "      <td>3.201358e+05</td>\n",
              "      <td>0.734291</td>\n",
              "    </tr>\n",
              "    <tr>\n",
              "      <th>min</th>\n",
              "      <td>5000.000000</td>\n",
              "      <td>2000.000000</td>\n",
              "      <td>1.000000</td>\n",
              "      <td>0.000000</td>\n",
              "      <td>6.420000e+04</td>\n",
              "      <td>1.000000</td>\n",
              "    </tr>\n",
              "    <tr>\n",
              "      <th>25%</th>\n",
              "      <td>23550.000000</td>\n",
              "      <td>10000.000000</td>\n",
              "      <td>3.000000</td>\n",
              "      <td>0.000000</td>\n",
              "      <td>2.587500e+05</td>\n",
              "      <td>1.000000</td>\n",
              "    </tr>\n",
              "    <tr>\n",
              "      <th>50%</th>\n",
              "      <td>35000.000000</td>\n",
              "      <td>15500.000000</td>\n",
              "      <td>4.000000</td>\n",
              "      <td>0.000000</td>\n",
              "      <td>4.474200e+05</td>\n",
              "      <td>1.000000</td>\n",
              "    </tr>\n",
              "    <tr>\n",
              "      <th>75%</th>\n",
              "      <td>50375.000000</td>\n",
              "      <td>25000.000000</td>\n",
              "      <td>5.000000</td>\n",
              "      <td>3500.000000</td>\n",
              "      <td>5.947200e+05</td>\n",
              "      <td>2.000000</td>\n",
              "    </tr>\n",
              "    <tr>\n",
              "      <th>max</th>\n",
              "      <td>100000.000000</td>\n",
              "      <td>50000.000000</td>\n",
              "      <td>7.000000</td>\n",
              "      <td>35000.000000</td>\n",
              "      <td>1.404000e+06</td>\n",
              "      <td>4.000000</td>\n",
              "    </tr>\n",
              "  </tbody>\n",
              "</table>\n",
              "</div>\n",
              "      <button class=\"colab-df-convert\" onclick=\"convertToInteractive('df-456d3745-7b09-43ae-8dc6-793eee4f442a')\"\n",
              "              title=\"Convert this dataframe to an interactive table.\"\n",
              "              style=\"display:none;\">\n",
              "        \n",
              "  <svg xmlns=\"http://www.w3.org/2000/svg\" height=\"24px\"viewBox=\"0 0 24 24\"\n",
              "       width=\"24px\">\n",
              "    <path d=\"M0 0h24v24H0V0z\" fill=\"none\"/>\n",
              "    <path d=\"M18.56 5.44l.94 2.06.94-2.06 2.06-.94-2.06-.94-.94-2.06-.94 2.06-2.06.94zm-11 1L8.5 8.5l.94-2.06 2.06-.94-2.06-.94L8.5 2.5l-.94 2.06-2.06.94zm10 10l.94 2.06.94-2.06 2.06-.94-2.06-.94-.94-2.06-.94 2.06-2.06.94z\"/><path d=\"M17.41 7.96l-1.37-1.37c-.4-.4-.92-.59-1.43-.59-.52 0-1.04.2-1.43.59L10.3 9.45l-7.72 7.72c-.78.78-.78 2.05 0 2.83L4 21.41c.39.39.9.59 1.41.59.51 0 1.02-.2 1.41-.59l7.78-7.78 2.81-2.81c.8-.78.8-2.07 0-2.86zM5.41 20L4 18.59l7.72-7.72 1.47 1.35L5.41 20z\"/>\n",
              "  </svg>\n",
              "      </button>\n",
              "      \n",
              "  <style>\n",
              "    .colab-df-container {\n",
              "      display:flex;\n",
              "      flex-wrap:wrap;\n",
              "      gap: 12px;\n",
              "    }\n",
              "\n",
              "    .colab-df-convert {\n",
              "      background-color: #E8F0FE;\n",
              "      border: none;\n",
              "      border-radius: 50%;\n",
              "      cursor: pointer;\n",
              "      display: none;\n",
              "      fill: #1967D2;\n",
              "      height: 32px;\n",
              "      padding: 0 0 0 0;\n",
              "      width: 32px;\n",
              "    }\n",
              "\n",
              "    .colab-df-convert:hover {\n",
              "      background-color: #E2EBFA;\n",
              "      box-shadow: 0px 1px 2px rgba(60, 64, 67, 0.3), 0px 1px 3px 1px rgba(60, 64, 67, 0.15);\n",
              "      fill: #174EA6;\n",
              "    }\n",
              "\n",
              "    [theme=dark] .colab-df-convert {\n",
              "      background-color: #3B4455;\n",
              "      fill: #D2E3FC;\n",
              "    }\n",
              "\n",
              "    [theme=dark] .colab-df-convert:hover {\n",
              "      background-color: #434B5C;\n",
              "      box-shadow: 0px 1px 3px 1px rgba(0, 0, 0, 0.15);\n",
              "      filter: drop-shadow(0px 1px 2px rgba(0, 0, 0, 0.3));\n",
              "      fill: #FFFFFF;\n",
              "    }\n",
              "  </style>\n",
              "\n",
              "      <script>\n",
              "        const buttonEl =\n",
              "          document.querySelector('#df-456d3745-7b09-43ae-8dc6-793eee4f442a button.colab-df-convert');\n",
              "        buttonEl.style.display =\n",
              "          google.colab.kernel.accessAllowed ? 'block' : 'none';\n",
              "\n",
              "        async function convertToInteractive(key) {\n",
              "          const element = document.querySelector('#df-456d3745-7b09-43ae-8dc6-793eee4f442a');\n",
              "          const dataTable =\n",
              "            await google.colab.kernel.invokeFunction('convertToInteractive',\n",
              "                                                     [key], {});\n",
              "          if (!dataTable) return;\n",
              "\n",
              "          const docLinkHtml = 'Like what you see? Visit the ' +\n",
              "            '<a target=\"_blank\" href=https://colab.research.google.com/notebooks/data_table.ipynb>data table notebook</a>'\n",
              "            + ' to learn more about interactive tables.';\n",
              "          element.innerHTML = '';\n",
              "          dataTable['output_type'] = 'display_data';\n",
              "          await google.colab.output.renderOutput(dataTable, element);\n",
              "          const docLink = document.createElement('div');\n",
              "          docLink.innerHTML = docLinkHtml;\n",
              "          element.appendChild(docLink);\n",
              "        }\n",
              "      </script>\n",
              "    </div>\n",
              "  </div>\n",
              "  "
            ]
          },
          "metadata": {},
          "execution_count": 9
        }
      ]
    },
    {
      "cell_type": "code",
      "source": [
        "#since Highest_Qualified_Member is irrelevent drop it\n",
        "df.drop('Highest_Qualified_Member',inplace=True,axis=1)"
      ],
      "metadata": {
        "id": "o4n_QbLizhH8"
      },
      "execution_count": 10,
      "outputs": []
    },
    {
      "cell_type": "code",
      "source": [
        "df.shape"
      ],
      "metadata": {
        "colab": {
          "base_uri": "https://localhost:8080/"
        },
        "id": "jYSfCE0B0aRl",
        "outputId": "07a7e61c-4c08-40a8-cb36-0c15301e61de"
      },
      "execution_count": 11,
      "outputs": [
        {
          "output_type": "execute_result",
          "data": {
            "text/plain": [
              "(50, 6)"
            ]
          },
          "metadata": {},
          "execution_count": 11
        }
      ]
    },
    {
      "cell_type": "markdown",
      "source": [
        "#Mean with library"
      ],
      "metadata": {
        "id": "Vhd7nmwox8L1"
      }
    },
    {
      "cell_type": "code",
      "source": [
        "df.mean()"
      ],
      "metadata": {
        "colab": {
          "base_uri": "https://localhost:8080/"
        },
        "id": "4jz-qe1B0cLE",
        "outputId": "0e7fe3b7-4998-41b2-9fbb-0267e46fcdb5"
      },
      "execution_count": 12,
      "outputs": [
        {
          "output_type": "execute_result",
          "data": {
            "text/plain": [
              "Mthly_HH_Income           41558.00\n",
              "Mthly_HH_Expense          18818.00\n",
              "No_of_Fly_Members             4.06\n",
              "Emi_or_Rent_Amt            3060.00\n",
              "Annual_HH_Income         490019.04\n",
              "No_of_Earning_Members         1.46\n",
              "dtype: float64"
            ]
          },
          "metadata": {},
          "execution_count": 12
        }
      ]
    },
    {
      "cell_type": "markdown",
      "source": [
        "#Mean without library"
      ],
      "metadata": {
        "id": "kDorn12x0uVr"
      }
    },
    {
      "cell_type": "code",
      "source": [
        "#mean of Mthly_HH_Income           \n",
        "Mthly_Income =list(df[\"Mthly_HH_Income\"])\n",
        "n_Mthly_Income = len(Mthly_Income)  \n",
        "total_sum_Mthly_Income = sum(Mthly_Income)\n",
        "mean_Mthly_HH_Income = total_sum_Mthly_Income / n_Mthly_Income"
      ],
      "metadata": {
        "id": "AQiHZlI60nxq"
      },
      "execution_count": 13,
      "outputs": []
    },
    {
      "cell_type": "code",
      "source": [
        "#mean of Mthly_HH_Expense\n",
        "mthly_Expense=list(df[\"Mthly_HH_Expense\"])\n",
        "n_mthly_Expense = len(mthly_Expense)  \n",
        "total_sum_mthly_Expense = sum(mthly_Expense)\n",
        "mean_Mthly_HH_Expense = total_sum_mthly_Expense/ n_mthly_Expense"
      ],
      "metadata": {
        "id": "PCE9F2_q3ZF6"
      },
      "execution_count": 14,
      "outputs": []
    },
    {
      "cell_type": "code",
      "source": [
        "#mean of No_of_Fly_Members \n",
        "Num_of_Fly_Members =list(df[\"No_of_Fly_Members\"])\n",
        "n_Fly_Members = len(Num_of_Fly_Members )  \n",
        "total_sum_Fly_Members = sum(Num_of_Fly_Members)\n",
        "mean_Fly_Members = total_sum_Fly_Members/ n_Fly_Members"
      ],
      "metadata": {
        "id": "mn7dKEr73kaw"
      },
      "execution_count": 15,
      "outputs": []
    },
    {
      "cell_type": "code",
      "source": [
        "#mean of Emi_or_Rent_Amt          \n",
        "Emi_Rent_Amt =list(df[\"Emi_or_Rent_Amt\"])\n",
        "n_Emi_Rent_Amt = len(Emi_Rent_Amt)  \n",
        "total_Emi_Rent_Amt = sum(Emi_Rent_Amt)\n",
        "mean_Emi_Rent_Amt = total_Emi_Rent_Amt/ n_Emi_Rent_Amt"
      ],
      "metadata": {
        "id": "__thZU_I44cW"
      },
      "execution_count": 16,
      "outputs": []
    },
    {
      "cell_type": "code",
      "source": [
        "#mean of Annual_HH_Income          \n",
        "Annual_Income =list(df[\"Annual_HH_Income\"])\n",
        "n_Annual_Income = len(Annual_Income)  \n",
        "total_Annual_Income = sum(Annual_Income)\n",
        "mean_Annual_Income = total_Annual_Income/ n_Annual_Income"
      ],
      "metadata": {
        "id": "jMXiwQNe5jgT"
      },
      "execution_count": 17,
      "outputs": []
    },
    {
      "cell_type": "code",
      "source": [
        "#mean of No_of_Earning_Members       \n",
        "No_of_Earning_Mem =list(df[\"Annual_HH_Income\"])\n",
        "n_No_of_Earning_Mem = len(No_of_Earning_Mem)  \n",
        "total_No_of_Earning_Mem = sum(No_of_Earning_Mem)\n",
        "mean_No_of_Earning_Mem = total_No_of_Earning_Mem/ n_No_of_Earning_Mem"
      ],
      "metadata": {
        "id": "U1BHrGKw59nl"
      },
      "execution_count": 18,
      "outputs": []
    },
    {
      "cell_type": "code",
      "source": [
        "print(\"mean of Mthly_HH_Income \",mean_Mthly_HH_Income)\n",
        "print(\"mean of Mthly_HH_Expense \",mean_Mthly_HH_Expense)\n",
        "print(\"mean of No_of_Fly_Members \",mean_Fly_Members)\n",
        "print(\"mean of Emi_or_Rent_Amt \",mean_Emi_Rent_Amt)\n",
        "print(\"mean of Annual_HH_Income \",mean_Annual_Income)\n",
        "print(\"mean of No_of_Earning_Members \",mean_No_of_Earning_Mem)"
      ],
      "metadata": {
        "colab": {
          "base_uri": "https://localhost:8080/"
        },
        "id": "gC93Gt7g4JFY",
        "outputId": "b2abf153-d412-4214-e870-0cf6814be976"
      },
      "execution_count": 19,
      "outputs": [
        {
          "output_type": "stream",
          "name": "stdout",
          "text": [
            "mean of Mthly_HH_Income  41558.0\n",
            "mean of Mthly_HH_Expense  18818.0\n",
            "mean of No_of_Fly_Members  4.06\n",
            "mean of Emi_or_Rent_Amt  3060.0\n",
            "mean of Annual_HH_Income  490019.04\n",
            "mean of No_of_Earning_Members  490019.04\n"
          ]
        }
      ]
    },
    {
      "cell_type": "markdown",
      "source": [
        "#b) Median\n",
        "The median is the value that’s exactly in the middle of a data set.\n",
        "\n",
        "Median for odd no. of observations: $$ Median = x_\\frac{(n+1)}{2} $$\n",
        "\n",
        "Median for even no. of observations: $$ Median = \\frac{x_\\frac{n}{2}+x_\\left(\\frac{n}{2}+1\\right)}{2} $$"
      ],
      "metadata": {
        "id": "eomrYzuQ6_bz"
      }
    },
    {
      "cell_type": "markdown",
      "source": [
        "#Median with libraries"
      ],
      "metadata": {
        "id": "B0THTp138lDz"
      }
    },
    {
      "cell_type": "code",
      "source": [
        "df.median()"
      ],
      "metadata": {
        "colab": {
          "base_uri": "https://localhost:8080/"
        },
        "id": "hzaxGPDY8UY9",
        "outputId": "6ad932e8-ec87-4673-aeb3-0ee58164ed34"
      },
      "execution_count": 20,
      "outputs": [
        {
          "output_type": "execute_result",
          "data": {
            "text/plain": [
              "Mthly_HH_Income           35000.0\n",
              "Mthly_HH_Expense          15500.0\n",
              "No_of_Fly_Members             4.0\n",
              "Emi_or_Rent_Amt               0.0\n",
              "Annual_HH_Income         447420.0\n",
              "No_of_Earning_Members         1.0\n",
              "dtype: float64"
            ]
          },
          "metadata": {},
          "execution_count": 20
        }
      ]
    },
    {
      "cell_type": "markdown",
      "source": [
        "#Median without libraries"
      ],
      "metadata": {
        "id": "rrsNu4cd-edi"
      }
    },
    {
      "cell_type": "code",
      "source": [
        "data = df.apply(lambda x: x.sort_values().values)\n",
        "n=df.count()\n",
        "n=int(n[0])\n",
        "d=list(df.columns)\n",
        "li=[]\n",
        "for i in range(6):\n",
        "    li.append(list(data.iloc[0:,i]))\n",
        "for i in range(6):  \n",
        "    if n % 2 == 0:\n",
        "        median1 = li[i][n//2]\n",
        "\n",
        "        median2 = li[i][n//2 - 1]\n",
        "        median = (median1 + median2)/2\n",
        "    else:\n",
        "        median =li[i][n//2]\n",
        "    print(str(d[i]),(median))"
      ],
      "metadata": {
        "colab": {
          "base_uri": "https://localhost:8080/"
        },
        "id": "RrEX9kZC9C3b",
        "outputId": "58a198a3-89e5-4113-cb8a-49e1127e7092"
      },
      "execution_count": 21,
      "outputs": [
        {
          "output_type": "stream",
          "name": "stdout",
          "text": [
            "Mthly_HH_Income 35000.0\n",
            "Mthly_HH_Expense 15500.0\n",
            "No_of_Fly_Members 4.0\n",
            "Emi_or_Rent_Amt 0.0\n",
            "Annual_HH_Income 447420.0\n",
            "No_of_Earning_Members 1.0\n"
          ]
        }
      ]
    },
    {
      "cell_type": "markdown",
      "source": [
        "#c) Mode\n",
        "The mode is the simply the most popular or most frequent response value. A data set can have no mode, one mode, or more than one mode.\n",
        "\n",
        "To find the mode, order your data set from lowest to highest and find the response that occurs most frequently.\n",
        "$$ Mode = l+h\\left(\\frac{f_m - f_1}{2f_m - f_1 - f_2}\\right) $$\n",
        "\n",
        "here,\n",
        "\n",
        "\"l\" is lower limit of the modal class\n",
        "\n",
        "\"h\" is the size of the class interval\n",
        "\n",
        "\"$f_m$\" is the frequency of the modal class\n",
        "\n",
        "\"$f_1$\" is the frequency of the class preceding the modal class\n",
        "\n",
        "\"$f_2$\" the frequency of the class succeeding the modal class"
      ],
      "metadata": {
        "id": "WXlEy6S5-vJm"
      }
    },
    {
      "cell_type": "markdown",
      "source": [
        "#Mode with Libraries"
      ],
      "metadata": {
        "id": "T3AOS0XG_rOD"
      }
    },
    {
      "cell_type": "code",
      "source": [
        "df.mode()"
      ],
      "metadata": {
        "colab": {
          "base_uri": "https://localhost:8080/",
          "height": 81
        },
        "id": "GqDqnewT-uHx",
        "outputId": "116d7934-0680-48c3-c5cf-9a09257a986d"
      },
      "execution_count": 22,
      "outputs": [
        {
          "output_type": "execute_result",
          "data": {
            "text/plain": [
              "   Mthly_HH_Income  Mthly_HH_Expense  No_of_Fly_Members  Emi_or_Rent_Amt  \\\n",
              "0            45000             25000                  4                0   \n",
              "\n",
              "   Annual_HH_Income  No_of_Earning_Members  \n",
              "0            590400                      1  "
            ],
            "text/html": [
              "\n",
              "  <div id=\"df-2a70f22c-28f4-4504-b6db-7e62ed65cdad\">\n",
              "    <div class=\"colab-df-container\">\n",
              "      <div>\n",
              "<style scoped>\n",
              "    .dataframe tbody tr th:only-of-type {\n",
              "        vertical-align: middle;\n",
              "    }\n",
              "\n",
              "    .dataframe tbody tr th {\n",
              "        vertical-align: top;\n",
              "    }\n",
              "\n",
              "    .dataframe thead th {\n",
              "        text-align: right;\n",
              "    }\n",
              "</style>\n",
              "<table border=\"1\" class=\"dataframe\">\n",
              "  <thead>\n",
              "    <tr style=\"text-align: right;\">\n",
              "      <th></th>\n",
              "      <th>Mthly_HH_Income</th>\n",
              "      <th>Mthly_HH_Expense</th>\n",
              "      <th>No_of_Fly_Members</th>\n",
              "      <th>Emi_or_Rent_Amt</th>\n",
              "      <th>Annual_HH_Income</th>\n",
              "      <th>No_of_Earning_Members</th>\n",
              "    </tr>\n",
              "  </thead>\n",
              "  <tbody>\n",
              "    <tr>\n",
              "      <th>0</th>\n",
              "      <td>45000</td>\n",
              "      <td>25000</td>\n",
              "      <td>4</td>\n",
              "      <td>0</td>\n",
              "      <td>590400</td>\n",
              "      <td>1</td>\n",
              "    </tr>\n",
              "  </tbody>\n",
              "</table>\n",
              "</div>\n",
              "      <button class=\"colab-df-convert\" onclick=\"convertToInteractive('df-2a70f22c-28f4-4504-b6db-7e62ed65cdad')\"\n",
              "              title=\"Convert this dataframe to an interactive table.\"\n",
              "              style=\"display:none;\">\n",
              "        \n",
              "  <svg xmlns=\"http://www.w3.org/2000/svg\" height=\"24px\"viewBox=\"0 0 24 24\"\n",
              "       width=\"24px\">\n",
              "    <path d=\"M0 0h24v24H0V0z\" fill=\"none\"/>\n",
              "    <path d=\"M18.56 5.44l.94 2.06.94-2.06 2.06-.94-2.06-.94-.94-2.06-.94 2.06-2.06.94zm-11 1L8.5 8.5l.94-2.06 2.06-.94-2.06-.94L8.5 2.5l-.94 2.06-2.06.94zm10 10l.94 2.06.94-2.06 2.06-.94-2.06-.94-.94-2.06-.94 2.06-2.06.94z\"/><path d=\"M17.41 7.96l-1.37-1.37c-.4-.4-.92-.59-1.43-.59-.52 0-1.04.2-1.43.59L10.3 9.45l-7.72 7.72c-.78.78-.78 2.05 0 2.83L4 21.41c.39.39.9.59 1.41.59.51 0 1.02-.2 1.41-.59l7.78-7.78 2.81-2.81c.8-.78.8-2.07 0-2.86zM5.41 20L4 18.59l7.72-7.72 1.47 1.35L5.41 20z\"/>\n",
              "  </svg>\n",
              "      </button>\n",
              "      \n",
              "  <style>\n",
              "    .colab-df-container {\n",
              "      display:flex;\n",
              "      flex-wrap:wrap;\n",
              "      gap: 12px;\n",
              "    }\n",
              "\n",
              "    .colab-df-convert {\n",
              "      background-color: #E8F0FE;\n",
              "      border: none;\n",
              "      border-radius: 50%;\n",
              "      cursor: pointer;\n",
              "      display: none;\n",
              "      fill: #1967D2;\n",
              "      height: 32px;\n",
              "      padding: 0 0 0 0;\n",
              "      width: 32px;\n",
              "    }\n",
              "\n",
              "    .colab-df-convert:hover {\n",
              "      background-color: #E2EBFA;\n",
              "      box-shadow: 0px 1px 2px rgba(60, 64, 67, 0.3), 0px 1px 3px 1px rgba(60, 64, 67, 0.15);\n",
              "      fill: #174EA6;\n",
              "    }\n",
              "\n",
              "    [theme=dark] .colab-df-convert {\n",
              "      background-color: #3B4455;\n",
              "      fill: #D2E3FC;\n",
              "    }\n",
              "\n",
              "    [theme=dark] .colab-df-convert:hover {\n",
              "      background-color: #434B5C;\n",
              "      box-shadow: 0px 1px 3px 1px rgba(0, 0, 0, 0.15);\n",
              "      filter: drop-shadow(0px 1px 2px rgba(0, 0, 0, 0.3));\n",
              "      fill: #FFFFFF;\n",
              "    }\n",
              "  </style>\n",
              "\n",
              "      <script>\n",
              "        const buttonEl =\n",
              "          document.querySelector('#df-2a70f22c-28f4-4504-b6db-7e62ed65cdad button.colab-df-convert');\n",
              "        buttonEl.style.display =\n",
              "          google.colab.kernel.accessAllowed ? 'block' : 'none';\n",
              "\n",
              "        async function convertToInteractive(key) {\n",
              "          const element = document.querySelector('#df-2a70f22c-28f4-4504-b6db-7e62ed65cdad');\n",
              "          const dataTable =\n",
              "            await google.colab.kernel.invokeFunction('convertToInteractive',\n",
              "                                                     [key], {});\n",
              "          if (!dataTable) return;\n",
              "\n",
              "          const docLinkHtml = 'Like what you see? Visit the ' +\n",
              "            '<a target=\"_blank\" href=https://colab.research.google.com/notebooks/data_table.ipynb>data table notebook</a>'\n",
              "            + ' to learn more about interactive tables.';\n",
              "          element.innerHTML = '';\n",
              "          dataTable['output_type'] = 'display_data';\n",
              "          await google.colab.output.renderOutput(dataTable, element);\n",
              "          const docLink = document.createElement('div');\n",
              "          docLink.innerHTML = docLinkHtml;\n",
              "          element.appendChild(docLink);\n",
              "        }\n",
              "      </script>\n",
              "    </div>\n",
              "  </div>\n",
              "  "
            ]
          },
          "metadata": {},
          "execution_count": 22
        }
      ]
    },
    {
      "cell_type": "markdown",
      "source": [
        "#Mode without Libraries"
      ],
      "metadata": {
        "id": "FAe_zOIk_xzc"
      }
    },
    {
      "cell_type": "code",
      "source": [
        "\n",
        "from collections import Counter\n",
        "def mode(counter):\n",
        "    # store a list of name:count tuples in case multiple modes\n",
        "    modes = [('',0)]\n",
        "    for k,v in counter.items():\n",
        "        highest_count = modes[0][1]\n",
        "        if v > highest_count:\n",
        "            modes = [(k,v)]\n",
        "        elif v == highest_count:\n",
        "            modes.append((k,v))\n",
        "        \n",
        "    return modes\n",
        "Mthly_Income = list(df['Mthly_HH_Income'])\n",
        "count_Mthly_Income = Counter(Mthly_Income)\n",
        "print('Mthly_HH_Income',mode(count_Mthly_Income))\n",
        "\n",
        "Mthly_Expense = list(df['Mthly_HH_Expense'])\n",
        "count_Mthly_Expense = Counter(Mthly_Expense)\n",
        "print('Mthly_HH_Expense',mode(count_Mthly_Expense))\n",
        "\n",
        "Fly_Members= list(df['No_of_Fly_Members'])\n",
        "count_Fly_Members = Counter(Fly_Members)\n",
        "print('No_of_Fly_Members',mode(count_Fly_Members))\n",
        "\n",
        "Emi_Rent_Amt = list(df['Emi_or_Rent_Amt'])\n",
        "count_Emi_Rent_Amt= Counter(Emi_Rent_Amt)\n",
        "print('Emi_or_Rent_Amt',mode(count_Emi_Rent_Amt))\n",
        "\n",
        "Annual_Income= list(df['Annual_HH_Income'])\n",
        "count_Annual_Income = Counter(Annual_Income)\n",
        "print('Annual_HH_Income',mode(count_Annual_Income))\n",
        "\n",
        "Earning_Members = list(df['No_of_Earning_Members'])\n",
        "count_Earning_Members = Counter(Earning_Members)\n",
        "print('No_of_Earning_Members',mode(count_Earning_Members))"
      ],
      "metadata": {
        "colab": {
          "base_uri": "https://localhost:8080/"
        },
        "id": "m_YjhqEX9ltG",
        "outputId": "8263d55d-b7f6-4d2d-97fa-bc853941fde3"
      },
      "execution_count": 23,
      "outputs": [
        {
          "output_type": "stream",
          "name": "stdout",
          "text": [
            "Mthly_HH_Income [(45000, 4)]\n",
            "Mthly_HH_Expense [(25000, 8)]\n",
            "No_of_Fly_Members [(4, 15)]\n",
            "Emi_or_Rent_Amt [(0, 30)]\n",
            "Annual_HH_Income [(590400, 2)]\n",
            "No_of_Earning_Members [(1, 33)]\n"
          ]
        }
      ]
    },
    {
      "cell_type": "markdown",
      "source": [
        "#Measures of variability\n",
        "Measures of variability give you a sense of how spread out the response values are. \n",
        "\n",
        "The range, standard deviation and variance each reflect different aspects of spread.\n",
        "\n",
        "#a)Range\n",
        "The range gives you an idea of how far apart the most extreme response scores are. To find the range, simply subtract the lowest value from the highest value."
      ],
      "metadata": {
        "id": "CJl2A7cmDDRW"
      }
    },
    {
      "cell_type": "markdown",
      "source": [
        "#b)Variance\n",
        "The variance is the average of squared deviations from the mean. Variance reflects the degree of spread in the data set. The more spread the data, the larger the variance is in relation to the mean.\n",
        "\n",
        "To find the variance, simply square the standard deviation. \n",
        "\n",
        "The symbol for variance is $$ \\sigma^2$$\n",
        "Sample Variance : $$ \\sigma^2 = \\frac{\\sum\\,(X_i - \\bar{x})^2}{n-1} $$ \n",
        "\n",
        "here,\n",
        "\n",
        "$\\sigma^2$ = sample variance\n",
        "\n",
        "$\\sum$ = sum \n",
        "\n",
        "Χ = each value\n",
        "\n",
        "$\\bar{x}$ = sample mean\n",
        "\n",
        "n = number of values in the sample"
      ],
      "metadata": {
        "id": "6VVT-cwSDrh6"
      }
    },
    {
      "cell_type": "markdown",
      "source": [
        "#Variance with libraries"
      ],
      "metadata": {
        "id": "chANw5mvFBWI"
      }
    },
    {
      "cell_type": "code",
      "source": [
        "np.var(df)"
      ],
      "metadata": {
        "colab": {
          "base_uri": "https://localhost:8080/"
        },
        "id": "4pOUI5sBFkIW",
        "outputId": "af7ab3af-af44-4dd7-a7df-ed16a315ca00"
      },
      "execution_count": 24,
      "outputs": [
        {
          "output_type": "execute_result",
          "data": {
            "text/plain": [
              "Mthly_HH_Income          6.674788e+08\n",
              "Mthly_HH_Expense         1.432499e+08\n",
              "No_of_Fly_Members        2.256400e+00\n",
              "Emi_or_Rent_Amt          3.817640e+07\n",
              "Annual_HH_Income         1.004372e+11\n",
              "No_of_Earning_Members    5.284000e-01\n",
              "dtype: float64"
            ]
          },
          "metadata": {},
          "execution_count": 24
        }
      ]
    },
    {
      "cell_type": "code",
      "source": [
        "df.var()"
      ],
      "metadata": {
        "colab": {
          "base_uri": "https://localhost:8080/"
        },
        "id": "yBfXh8_2FG62",
        "outputId": "c660ff24-9318-4cb5-cc90-14dc1f3b05ae"
      },
      "execution_count": 25,
      "outputs": [
        {
          "output_type": "execute_result",
          "data": {
            "text/plain": [
              "Mthly_HH_Income          6.811009e+08\n",
              "Mthly_HH_Expense         1.461733e+08\n",
              "No_of_Fly_Members        2.302449e+00\n",
              "Emi_or_Rent_Amt          3.895551e+07\n",
              "Annual_HH_Income         1.024869e+11\n",
              "No_of_Earning_Members    5.391837e-01\n",
              "dtype: float64"
            ]
          },
          "metadata": {},
          "execution_count": 25
        }
      ]
    },
    {
      "cell_type": "markdown",
      "source": [
        "#Variance without libraries"
      ],
      "metadata": {
        "id": "9xAmAZwQFIW-"
      }
    },
    {
      "cell_type": "code",
      "source": [
        "lst = list(data['Mthly_HH_Expense'])\n",
        "avg = sum(lst) / len(lst)\n",
        "var = sum((x-avg)**2 for x in lst) / len(lst)"
      ],
      "metadata": {
        "id": "eW5PEx_EK6IQ"
      },
      "execution_count": 26,
      "outputs": []
    },
    {
      "cell_type": "code",
      "source": [
        "Mthly_Income = list(df['Mthly_HH_Income'])\n",
        "avg_Mthly_Income = sum(Mthly_Income) / len(Mthly_Income)\n",
        "var_Mthly_Income = sum((x-avg_Mthly_Income)**2 for x in Mthly_Income) / len(Mthly_Income)\n",
        "print(\"Mthly_HH_Income: \",var_Mthly_Income)\n",
        "\n",
        "Mthly_Expense = list(df['Mthly_HH_Expense'])\n",
        "avg_Mthly_Expense  = sum(Mthly_Expense) / len(Mthly_Expense)\n",
        "var_Mthly_Expense  = sum((x-avg_Mthly_Expense)**2 for x in Mthly_Expense) / len(Mthly_Expense)\n",
        "print(\"Mthly_HH_Expense: \",var_Mthly_Expense )\n",
        "\n",
        "Fly_Members= list(df['No_of_Fly_Members'])\n",
        "avg_Fly_Members = sum(Fly_Members) / len(Fly_Members)\n",
        "var_Fly_Members = sum((x-avg_Fly_Members)**2 for x in Fly_Members) / len(Fly_Members)\n",
        "print('No_of_Fly_Members: ',var_Fly_Members )\n",
        "\n",
        "Emi_Rent_Amt = list(df['Emi_or_Rent_Amt'])\n",
        "avg_Emi_Rent_Amt = sum(Emi_Rent_Amt) / len(Emi_Rent_Amt)\n",
        "var_Emi_Rent_Amt = sum((x-avg_Emi_Rent_Amt)**2 for x in Emi_Rent_Amt) / len(Emi_Rent_Amt)\n",
        "print(\"Emi_or_Rent_Amt: \",var_Emi_Rent_Amt)\n",
        "\n",
        "Annual_Income= list(df['Annual_HH_Income'])\n",
        "avg_Annual_Income= sum(Annual_Income) / len(Annual_Income)\n",
        "var_Annual_Income = sum((x-avg_Annual_Income)**2 for x in Annual_Income) / len(Annual_Income)\n",
        "print(\"Annual_HH_Income: \",var_Annual_Income)\n",
        "\n",
        "Earning_Members = list(df['No_of_Earning_Members'])\n",
        "avg_Earning_Members  = sum(Earning_Members) / len(Earning_Members)\n",
        "var_Earning_Members  = sum((x-avg_Earning_Members)**2 for x in Earning_Members) / len(Earning_Members)\n",
        "print(\"No_of_Earning_Members: \",var_Earning_Members )"
      ],
      "metadata": {
        "colab": {
          "base_uri": "https://localhost:8080/"
        },
        "id": "uRnk88XWDCxE",
        "outputId": "bed128a0-7a86-419b-f558-5e1731d56148"
      },
      "execution_count": 30,
      "outputs": [
        {
          "output_type": "stream",
          "name": "stdout",
          "text": [
            "Mthly_HH_Income:  667478836.0\n",
            "Mthly_HH_Expense:  143249876.0\n",
            "No_of_Fly_Members:  2.2564\n",
            "Emi_or_Rent_Amt:  38176400.0\n",
            "Annual_HH_Income:  100437186889.95831\n",
            "No_of_Earning_Members:  0.5284\n"
          ]
        }
      ]
    },
    {
      "cell_type": "markdown",
      "source": [
        "#Standard deviation\n",
        "The standard deviation (s) is the average amount of variability in your dataset. It tells you, on average, how far each score lies from the mean. The larger the standard deviation, the more variable the data set is.\n",
        "\n",
        "Sample Standard Deviation : $$  \\sigma = \\sqrt{\\frac{\\sum\\,(X_i - \\bar{x})^2}{N-1}} $$ \n",
        "\n",
        "here,\n",
        "\n",
        "$\\sigma$=Standard Deviation<br>\n",
        "X=Terms given in the data<br>\n",
        "N=Total number of terms<br>\n",
        "$\\bar x $= Mean of the data\n",
        "\n",
        "There are six steps for finding the standard deviation:\n",
        "\n",
        "1. List each score and find their mean.\n",
        "2. Subtract the mean from each score to get the deviation from the mean.\n",
        "3. Square each of these deviations.\n",
        "4. Add up all of the squared deviations.\n",
        "5. Divide the sum of the squared deviations by N – 1.\n",
        "6. Find the square root of the number you found."
      ],
      "metadata": {
        "id": "OXg0XnHsD_1F"
      }
    },
    {
      "cell_type": "markdown",
      "source": [
        "#standard deviation with libraries"
      ],
      "metadata": {
        "id": "PIabePyoLtnz"
      }
    },
    {
      "cell_type": "code",
      "source": [
        "df.std()"
      ],
      "metadata": {
        "colab": {
          "base_uri": "https://localhost:8080/"
        },
        "id": "N2VhXsEZD_Q8",
        "outputId": "6de01589-b8c6-4c09-8d29-b4486ab1db90"
      },
      "execution_count": 31,
      "outputs": [
        {
          "output_type": "execute_result",
          "data": {
            "text/plain": [
              "Mthly_HH_Income           26097.908979\n",
              "Mthly_HH_Expense          12090.216824\n",
              "No_of_Fly_Members             1.517382\n",
              "Emi_or_Rent_Amt            6241.434948\n",
              "Annual_HH_Income         320135.792123\n",
              "No_of_Earning_Members         0.734291\n",
              "dtype: float64"
            ]
          },
          "metadata": {},
          "execution_count": 31
        }
      ]
    },
    {
      "cell_type": "markdown",
      "source": [
        "#standard deviation without libraries"
      ],
      "metadata": {
        "id": "lup55VJKL2_h"
      }
    },
    {
      "cell_type": "code",
      "source": [
        "from math import sqrt\n",
        "def st_dev(n):\n",
        "  mean =sum(n)/len(n)\n",
        "  total= 0\n",
        "  for i in n :\n",
        "      total +=(i-mean)**2\n",
        "  std=sqrt(total/(len(n)-1))\n",
        "  return(std)\n",
        "n_Mthly_HH_Income= list(df['Mthly_HH_Income'])\n",
        "print(\"Mthly_HH_Income: \",st_dev(n_Mthly_HH_Income))\n",
        "n_Mthly_HH_Expense= list(df['Mthly_HH_Expense'])\n",
        "print(\"Mthly_HH_Expense: \",st_dev(n_Mthly_HH_Expense))\n",
        "n_No_of_Fly_Members= list(df['No_of_Fly_Members'])\n",
        "print('No_of_Fly_Members: ',st_dev(n_No_of_Fly_Members))\n",
        "n_Emi_or_Rent_Amt= list(df['Emi_or_Rent_Amt'])\n",
        "print('Emi_or_Rent_Amt: ',st_dev(n_Emi_or_Rent_Amt))\n",
        "n_Annual_HH_Income= list(df['Annual_HH_Income'])\n",
        "print('Annual_HH_Income: ',st_dev(n_Annual_HH_Income))\n",
        "n_No_of_Earning_Members= list(df['No_of_Earning_Members'])\n",
        "print('No_of_Earning_Members: ',st_dev(n_No_of_Earning_Members))"
      ],
      "metadata": {
        "colab": {
          "base_uri": "https://localhost:8080/"
        },
        "id": "sgPvK2bGMEw8",
        "outputId": "272e6697-2289-4745-ae1b-e68d7bed478a"
      },
      "execution_count": 37,
      "outputs": [
        {
          "output_type": "stream",
          "name": "stdout",
          "text": [
            "Mthly_HH_Income:  26097.908978713687\n",
            "Mthly_HH_Expense:  12090.216824240286\n",
            "No_of_Fly_Members:  1.5173822786601394\n",
            "Emi_or_Rent_Amt:  6241.434947516607\n",
            "Annual_HH_Income:  320135.79212252516\n",
            "No_of_Earning_Members:  0.7342912729083656\n"
          ]
        }
      ]
    },
    {
      "cell_type": "markdown",
      "source": [
        "#Correlation (Pearson, Kendall, Spearman)\n",
        "Correlation is a bivariate analysis that measures the strength of association between two variables and the direction of the relationship.  \n",
        "In terms of the strength of relationship, the value of the correlation coefficient varies between +1 and -1.  \n",
        "A value of ± 1 indicates a perfect degree of association between the two variables.  \n",
        "As the correlation coefficient value goes towards 0, the relationship between the two variables will be weaker.  \n",
        "The direction of the relationship is indicated by the sign of the coefficient;\n",
        "\n",
        "a + sign indicates a positive relationship and a – sign indicates a negative relationship. \n",
        "Usually, in statistics, we measure four types of correlations: \n",
        "1. Pearson correlation\n",
        "2. Kendall rank correlation\n",
        "3. Spearman correlation\n",
        "4. Point-Biserial correlation.  "
      ],
      "metadata": {
        "id": "3jhob9XuO76p"
      }
    },
    {
      "cell_type": "markdown",
      "source": [
        "#Pearson r correlation: \n",
        "Pearson r correlation is the most widely used correlation statistic to measure the degree of the relationship between linearly related variables. \n",
        "\n",
        "For example, in the stock market, if we want to measure how two stocks are related to each other, Pearson r correlation is used to measure the degree of relationship between the two. \n",
        "\n",
        "The point-biserial correlation is conducted with the Pearson correlation formula except that one of the variables is dichotomous. \n",
        "The following formula is used to calculate the Pearson correlation coefficient:\n",
        "\n",
        "#Pearson Correlation Coefficient:   \n",
        "$$ r = \\frac{\\sum(x_i-\\bar x)(y_i-\\bar y)}{\\sqrt{\\sum(x_i-\\bar x)^2\\sum(y_i-\\bar y)^2}} $$\n",
        "<br>\n",
        "here,<br>\n",
        "$x_i$=x variable sample<br>\n",
        "$y_i$=y variable sample<br>\n",
        "$\\bar x$=mean of values in x variable<br>\n",
        "$\\bar y$=mean of values in y variable<br>"
      ],
      "metadata": {
        "id": "ME6-K4_bPvKR"
      }
    },
    {
      "cell_type": "code",
      "source": [
        "#example \n",
        "from scipy.stats import pearsonr\n",
        "x = np.random.normal(size=10)\n",
        "y = np.random.normal(size=10)\n",
        "pearsonr(x,y)"
      ],
      "metadata": {
        "id": "hxcJwVsHNvty",
        "colab": {
          "base_uri": "https://localhost:8080/"
        },
        "outputId": "6601fe58-ac30-4577-eb60-586a6abc2955"
      },
      "execution_count": 38,
      "outputs": [
        {
          "output_type": "execute_result",
          "data": {
            "text/plain": [
              "(-0.025148857869631336, 0.9450216540885997)"
            ]
          },
          "metadata": {},
          "execution_count": 38
        }
      ]
    },
    {
      "cell_type": "markdown",
      "source": [
        "#Spearman rank correlation: \n",
        "Spearman rank correlation is a non-parametric test that is used to measure the degree of association between two variables.  The Spearman rank correlation test does not carry any assumptions about the distribution of the data and is the appropriate correlation analysis when the variables are measured on a scale that is at least ordinal.\n",
        "\n",
        "The following formula is used to calculate the Spearman rank correlation:\n",
        "#Spearman’s Rank Correlation Coefficient: \n",
        "$$\\rho = 1- \\frac{6\\sum d_i ^2}{n(n^2 -1)}$$\n",
        "<br>\n",
        "here,<br>\n",
        "$d_i$=difference between the two ranks of each observation<br>\n",
        "n= number of observations"
      ],
      "metadata": {
        "id": "YuoYOthyQ6Mf"
      }
    },
    {
      "cell_type": "code",
      "source": [
        "#example \n",
        "from scipy.stats import spearmanr\n",
        "x = np.random.normal(size=10)\n",
        "y = np.random.normal(size=10)\n",
        "spearmanr(x,y)"
      ],
      "metadata": {
        "colab": {
          "base_uri": "https://localhost:8080/"
        },
        "id": "4gWYKOorQsOH",
        "outputId": "d3e28ba6-c13f-4e05-828e-57b2f868a8bc"
      },
      "execution_count": 40,
      "outputs": [
        {
          "output_type": "execute_result",
          "data": {
            "text/plain": [
              "SpearmanrResult(correlation=0.12727272727272726, pvalue=0.7260570147627894)"
            ]
          },
          "metadata": {},
          "execution_count": 40
        }
      ]
    },
    {
      "cell_type": "markdown",
      "source": [
        "#Code Correlation Example"
      ],
      "metadata": {
        "id": "psXOGiOxRvEa"
      }
    },
    {
      "cell_type": "code",
      "source": [
        "data.corr(method ='kendall')"
      ],
      "metadata": {
        "colab": {
          "base_uri": "https://localhost:8080/",
          "height": 238
        },
        "id": "djAf6nypReNK",
        "outputId": "43b33a83-c213-4b54-aa3b-20185523861d"
      },
      "execution_count": 41,
      "outputs": [
        {
          "output_type": "execute_result",
          "data": {
            "text/plain": [
              "                       Mthly_HH_Income  Mthly_HH_Expense  No_of_Fly_Members  \\\n",
              "Mthly_HH_Income               1.000000          0.973571           0.905669   \n",
              "Mthly_HH_Expense              0.973571          1.000000           0.906975   \n",
              "No_of_Fly_Members             0.905669          0.906975           1.000000   \n",
              "Emi_or_Rent_Amt               0.795130          0.781284           0.784165   \n",
              "Annual_HH_Income              0.992209          0.972666           0.903877   \n",
              "No_of_Earning_Members         0.713835          0.726431           0.762741   \n",
              "\n",
              "                       Emi_or_Rent_Amt  Annual_HH_Income  \\\n",
              "Mthly_HH_Income               0.795130          0.992209   \n",
              "Mthly_HH_Expense              0.781284          0.972666   \n",
              "No_of_Fly_Members             0.784165          0.903877   \n",
              "Emi_or_Rent_Amt               1.000000          0.797771   \n",
              "Annual_HH_Income              0.797771          1.000000   \n",
              "No_of_Earning_Members         0.893139          0.714577   \n",
              "\n",
              "                       No_of_Earning_Members  \n",
              "Mthly_HH_Income                     0.713835  \n",
              "Mthly_HH_Expense                    0.726431  \n",
              "No_of_Fly_Members                   0.762741  \n",
              "Emi_or_Rent_Amt                     0.893139  \n",
              "Annual_HH_Income                    0.714577  \n",
              "No_of_Earning_Members               1.000000  "
            ],
            "text/html": [
              "\n",
              "  <div id=\"df-84e5edb6-ffbe-4125-9c28-3f59a57be0ba\">\n",
              "    <div class=\"colab-df-container\">\n",
              "      <div>\n",
              "<style scoped>\n",
              "    .dataframe tbody tr th:only-of-type {\n",
              "        vertical-align: middle;\n",
              "    }\n",
              "\n",
              "    .dataframe tbody tr th {\n",
              "        vertical-align: top;\n",
              "    }\n",
              "\n",
              "    .dataframe thead th {\n",
              "        text-align: right;\n",
              "    }\n",
              "</style>\n",
              "<table border=\"1\" class=\"dataframe\">\n",
              "  <thead>\n",
              "    <tr style=\"text-align: right;\">\n",
              "      <th></th>\n",
              "      <th>Mthly_HH_Income</th>\n",
              "      <th>Mthly_HH_Expense</th>\n",
              "      <th>No_of_Fly_Members</th>\n",
              "      <th>Emi_or_Rent_Amt</th>\n",
              "      <th>Annual_HH_Income</th>\n",
              "      <th>No_of_Earning_Members</th>\n",
              "    </tr>\n",
              "  </thead>\n",
              "  <tbody>\n",
              "    <tr>\n",
              "      <th>Mthly_HH_Income</th>\n",
              "      <td>1.000000</td>\n",
              "      <td>0.973571</td>\n",
              "      <td>0.905669</td>\n",
              "      <td>0.795130</td>\n",
              "      <td>0.992209</td>\n",
              "      <td>0.713835</td>\n",
              "    </tr>\n",
              "    <tr>\n",
              "      <th>Mthly_HH_Expense</th>\n",
              "      <td>0.973571</td>\n",
              "      <td>1.000000</td>\n",
              "      <td>0.906975</td>\n",
              "      <td>0.781284</td>\n",
              "      <td>0.972666</td>\n",
              "      <td>0.726431</td>\n",
              "    </tr>\n",
              "    <tr>\n",
              "      <th>No_of_Fly_Members</th>\n",
              "      <td>0.905669</td>\n",
              "      <td>0.906975</td>\n",
              "      <td>1.000000</td>\n",
              "      <td>0.784165</td>\n",
              "      <td>0.903877</td>\n",
              "      <td>0.762741</td>\n",
              "    </tr>\n",
              "    <tr>\n",
              "      <th>Emi_or_Rent_Amt</th>\n",
              "      <td>0.795130</td>\n",
              "      <td>0.781284</td>\n",
              "      <td>0.784165</td>\n",
              "      <td>1.000000</td>\n",
              "      <td>0.797771</td>\n",
              "      <td>0.893139</td>\n",
              "    </tr>\n",
              "    <tr>\n",
              "      <th>Annual_HH_Income</th>\n",
              "      <td>0.992209</td>\n",
              "      <td>0.972666</td>\n",
              "      <td>0.903877</td>\n",
              "      <td>0.797771</td>\n",
              "      <td>1.000000</td>\n",
              "      <td>0.714577</td>\n",
              "    </tr>\n",
              "    <tr>\n",
              "      <th>No_of_Earning_Members</th>\n",
              "      <td>0.713835</td>\n",
              "      <td>0.726431</td>\n",
              "      <td>0.762741</td>\n",
              "      <td>0.893139</td>\n",
              "      <td>0.714577</td>\n",
              "      <td>1.000000</td>\n",
              "    </tr>\n",
              "  </tbody>\n",
              "</table>\n",
              "</div>\n",
              "      <button class=\"colab-df-convert\" onclick=\"convertToInteractive('df-84e5edb6-ffbe-4125-9c28-3f59a57be0ba')\"\n",
              "              title=\"Convert this dataframe to an interactive table.\"\n",
              "              style=\"display:none;\">\n",
              "        \n",
              "  <svg xmlns=\"http://www.w3.org/2000/svg\" height=\"24px\"viewBox=\"0 0 24 24\"\n",
              "       width=\"24px\">\n",
              "    <path d=\"M0 0h24v24H0V0z\" fill=\"none\"/>\n",
              "    <path d=\"M18.56 5.44l.94 2.06.94-2.06 2.06-.94-2.06-.94-.94-2.06-.94 2.06-2.06.94zm-11 1L8.5 8.5l.94-2.06 2.06-.94-2.06-.94L8.5 2.5l-.94 2.06-2.06.94zm10 10l.94 2.06.94-2.06 2.06-.94-2.06-.94-.94-2.06-.94 2.06-2.06.94z\"/><path d=\"M17.41 7.96l-1.37-1.37c-.4-.4-.92-.59-1.43-.59-.52 0-1.04.2-1.43.59L10.3 9.45l-7.72 7.72c-.78.78-.78 2.05 0 2.83L4 21.41c.39.39.9.59 1.41.59.51 0 1.02-.2 1.41-.59l7.78-7.78 2.81-2.81c.8-.78.8-2.07 0-2.86zM5.41 20L4 18.59l7.72-7.72 1.47 1.35L5.41 20z\"/>\n",
              "  </svg>\n",
              "      </button>\n",
              "      \n",
              "  <style>\n",
              "    .colab-df-container {\n",
              "      display:flex;\n",
              "      flex-wrap:wrap;\n",
              "      gap: 12px;\n",
              "    }\n",
              "\n",
              "    .colab-df-convert {\n",
              "      background-color: #E8F0FE;\n",
              "      border: none;\n",
              "      border-radius: 50%;\n",
              "      cursor: pointer;\n",
              "      display: none;\n",
              "      fill: #1967D2;\n",
              "      height: 32px;\n",
              "      padding: 0 0 0 0;\n",
              "      width: 32px;\n",
              "    }\n",
              "\n",
              "    .colab-df-convert:hover {\n",
              "      background-color: #E2EBFA;\n",
              "      box-shadow: 0px 1px 2px rgba(60, 64, 67, 0.3), 0px 1px 3px 1px rgba(60, 64, 67, 0.15);\n",
              "      fill: #174EA6;\n",
              "    }\n",
              "\n",
              "    [theme=dark] .colab-df-convert {\n",
              "      background-color: #3B4455;\n",
              "      fill: #D2E3FC;\n",
              "    }\n",
              "\n",
              "    [theme=dark] .colab-df-convert:hover {\n",
              "      background-color: #434B5C;\n",
              "      box-shadow: 0px 1px 3px 1px rgba(0, 0, 0, 0.15);\n",
              "      filter: drop-shadow(0px 1px 2px rgba(0, 0, 0, 0.3));\n",
              "      fill: #FFFFFF;\n",
              "    }\n",
              "  </style>\n",
              "\n",
              "      <script>\n",
              "        const buttonEl =\n",
              "          document.querySelector('#df-84e5edb6-ffbe-4125-9c28-3f59a57be0ba button.colab-df-convert');\n",
              "        buttonEl.style.display =\n",
              "          google.colab.kernel.accessAllowed ? 'block' : 'none';\n",
              "\n",
              "        async function convertToInteractive(key) {\n",
              "          const element = document.querySelector('#df-84e5edb6-ffbe-4125-9c28-3f59a57be0ba');\n",
              "          const dataTable =\n",
              "            await google.colab.kernel.invokeFunction('convertToInteractive',\n",
              "                                                     [key], {});\n",
              "          if (!dataTable) return;\n",
              "\n",
              "          const docLinkHtml = 'Like what you see? Visit the ' +\n",
              "            '<a target=\"_blank\" href=https://colab.research.google.com/notebooks/data_table.ipynb>data table notebook</a>'\n",
              "            + ' to learn more about interactive tables.';\n",
              "          element.innerHTML = '';\n",
              "          dataTable['output_type'] = 'display_data';\n",
              "          await google.colab.output.renderOutput(dataTable, element);\n",
              "          const docLink = document.createElement('div');\n",
              "          docLink.innerHTML = docLinkHtml;\n",
              "          element.appendChild(docLink);\n",
              "        }\n",
              "      </script>\n",
              "    </div>\n",
              "  </div>\n",
              "  "
            ]
          },
          "metadata": {},
          "execution_count": 41
        }
      ]
    },
    {
      "cell_type": "code",
      "source": [
        "sns.heatmap(data.corr(),annot=True)"
      ],
      "metadata": {
        "colab": {
          "base_uri": "https://localhost:8080/",
          "height": 399
        },
        "id": "XHnfHeylSK2c",
        "outputId": "2751e35f-cbcc-4ebf-c8c3-159b68ef0042"
      },
      "execution_count": 43,
      "outputs": [
        {
          "output_type": "execute_result",
          "data": {
            "text/plain": [
              "<matplotlib.axes._subplots.AxesSubplot at 0x7f612a113d90>"
            ]
          },
          "metadata": {},
          "execution_count": 43
        },
        {
          "output_type": "display_data",
          "data": {
            "text/plain": [
              "<Figure size 432x288 with 2 Axes>"
            ],
            "image/png": "[encoded data removed]"
          },
          "metadata": {
            "needs_background": "light"
          }
        }
      ]
    },
    {
      "cell_type": "markdown",
      "source": [
        "#Normal Distribution\n",
        "In a normal distribution, data is symmetrically distributed with no skew. When plotted on a graph, the data follows a bell shape, with most values clustering around a central region and tapering off as they go further away from the center.\n",
        "\n",
        "Normal distributions are also called Gaussian distributions or bell curves because of their shape.\n",
        "#Normal Distribution:\n",
        "<h2>$$ f(x) = \\frac{1}{\\sigma\\sqrt{2\\pi}}e^\\left(-\\frac{1}{2}\\left(\\frac{x-\\mu}{\\sigma}\\right)^{2}\\right) $$ </h2>\n",
        "<br>\n",
        "here,<br>\n",
        "μ = mean\n",
        "\n",
        "σ = standard deviation\n",
        "\n",
        "x = value of the variable or data being examined\n",
        "\n",
        "f(x)= the probability function\n",
        "\n",
        "the values of the mean (μ) and standard deviation(σ)are necessary\n",
        "#properties of normal distributions\n",
        "Normal distributions have key characteristics that are easy to spot in graphs:\n",
        "\n",
        ">The mean, median and mode are exactly the same.\n",
        "\n",
        ">The distribution is symmetric about the mean—half the values fall below the mean and half above the mean.\n",
        "\n",
        ">The distribution can be described by two values: the mean and the standard deviation."
      ],
      "metadata": {
        "id": "ZX5_KSwDTLZ4"
      }
    },
    {
      "cell_type": "code",
      "source": [
        "rvs = stats.norm(scale=1, loc=0).rvs(1000000)\n",
        "sns.distplot(rvs)"
      ],
      "metadata": {
        "colab": {
          "base_uri": "https://localhost:8080/",
          "height": 282
        },
        "id": "6tDoz0KaSbcL",
        "outputId": "34ec7c75-4733-4307-e58e-d981074df1b5"
      },
      "execution_count": 44,
      "outputs": [
        {
          "output_type": "execute_result",
          "data": {
            "text/plain": [
              "<matplotlib.axes._subplots.AxesSubplot at 0x7f612724cd50>"
            ]
          },
          "metadata": {},
          "execution_count": 44
        },
        {
          "output_type": "display_data",
          "data": {
            "text/plain": [
              "<Figure size 432x288 with 1 Axes>"
            ],
            "image/png": "[encoded data removed]"
          },
          "metadata": {
            "needs_background": "light"
          }
        }
      ]
    },
    {
      "cell_type": "markdown",
      "source": [
        "#Skewness \n",
        "If the values of a specific independent variable (feature) are skewed, depending on the model, skewness may violate model assumptions or may reduce the interpretation of feature importance.\n",
        "\n",
        "In statistics, skewness is a degree of asymmetry observed in a probability distribution that deviates from the symmetrical normal distribution (bell\n",
        "curve) in a given set of data.\n",
        "\n",
        "#The normal distribution helps to know a skewness. \n",
        "When we talk about normal distribution, data symmetrically distributed. The symmetrical distribution has zero skewness as all measures of a central tendency lies in the middle. \n",
        "#Types of skewness \n",
        "#1. Positive skewed or right-skewed  \n",
        "In statistics, a positively skewed distribution is a sort of distribution where, unlike symmetrically distributed data where all measures of the central tendency (mean, median, and mode) equal each other, with positively skewed data, the measures are dispersing, which means Positively Skewed Distribution is a type of distribution where the mean, median, and mode of the distribution are positive rather than negative or zero.\n",
        "\n",
        "In positively skewed, the mean of the data is greater than the median (a large number of data-pushed on the right-hand side). In other words, the results are bent towards the lower side. The mean will be more than the median as the median is the middle value and mode is always the highest value\n",
        "#2. Negative skewed or left-skewed\n",
        "A negatively skewed distribution is the straight reverse of a positively skewed distribution. In statistics, negatively skewed distribution refers to the distribution model where more values are plots on the right side of the graph, and the tail of the distribution is spreading on the left side.\n",
        "\n",
        "In negatively skewed, the mean of the data is less than the median (a large number of data-pushed on the left-hand side). Negatively Skewed Distribution is a type of distribution where the mean, median, and mode of the distribution are negative rather than positive or zero.\n",
        "#Formula\n",
        "<h2>Pearson's first skewness coefficient (mode skewness):<br><br>$$ \\frac{Mean - Mode}{StandardDeviation}$$</h2>\n",
        "<h2>Pearson's second skewness coefficient (median skewness):<br><br> $$ \\frac{3(Mean - Median)}{StandardDeviation}$$"
      ],
      "metadata": {
        "id": "kKjB49Lec5P6"
      }
    },
    {
      "cell_type": "code",
      "source": [
        "#code example\n",
        "df.skew(numeric_only=True)"
      ],
      "metadata": {
        "colab": {
          "base_uri": "https://localhost:8080/"
        },
        "id": "WSrtU13taiKa",
        "outputId": "5e30f505-0248-4c2d-f698-516f47acb7a4"
      },
      "execution_count": 46,
      "outputs": [
        {
          "output_type": "execute_result",
          "data": {
            "text/plain": [
              "Mthly_HH_Income          0.924615\n",
              "Mthly_HH_Expense         1.199461\n",
              "No_of_Fly_Members        0.113674\n",
              "Emi_or_Rent_Amt          3.403680\n",
              "Annual_HH_Income         1.192949\n",
              "No_of_Earning_Members    1.593301\n",
              "dtype: float64"
            ]
          },
          "metadata": {},
          "execution_count": 46
        }
      ]
    },
    {
      "cell_type": "code",
      "source": [
        "from scipy.stats import skew\n",
        "import numpy as np\n",
        "import pylab as p\n",
        "\n",
        "x1 = np.linspace( 5, -12, 1000 )\n",
        "y1 = 1./(np.sqrt(2.*np.pi)) * np.exp( -.5*(x1)**2 )\n",
        "p.plot(x1, y1, '.')\n",
        "print( '\\nSkewness: ', skew(y1))\n"
      ],
      "metadata": {
        "colab": {
          "base_uri": "https://localhost:8080/",
          "height": 300
        },
        "id": "qgZ9gYSheNi6",
        "outputId": "9da46301-93c6-4b6b-9da8-b109be50efa5"
      },
      "execution_count": 49,
      "outputs": [
        {
          "output_type": "stream",
          "name": "stdout",
          "text": [
            "\n",
            "Skewness:  1.917677776148478\n"
          ]
        },
        {
          "output_type": "display_data",
          "data": {
            "text/plain": [
              "<Figure size 432x288 with 1 Axes>"
            ],
            "image/png": "[encoded data removed]"
          },
          "metadata": {
            "needs_background": "light"
          }
        }
      ]
    },
    {
      "cell_type": "code",
      "source": [
        "x1 = np.linspace( -5, 12, 1000 )\n",
        "y1 = 1./(np.sqrt(2.*np.pi)) * np.exp( -.5*(x1)**2 )\n",
        "p.plot(x1, y1, '.')\n",
        "print( '\\nSkewness: ', skew(y1))"
      ],
      "metadata": {
        "colab": {
          "base_uri": "https://localhost:8080/",
          "height": 300
        },
        "id": "aFyfQOekeU3o",
        "outputId": "e9957d9d-3ecc-40bf-8d50-a4f0de760706"
      },
      "execution_count": 50,
      "outputs": [
        {
          "output_type": "stream",
          "name": "stdout",
          "text": [
            "\n",
            "Skewness:  1.917677776148478\n"
          ]
        },
        {
          "output_type": "display_data",
          "data": {
            "text/plain": [
              "<Figure size 432x288 with 1 Axes>"
            ],
            "image/png": "[encoded data removed]"
          },
          "metadata": {
            "needs_background": "light"
          }
        }
      ]
    },
    {
      "cell_type": "code",
      "source": [
        "from sklearn.preprocessing import StandardScaler\n",
        "data_std=StandardScaler()\n",
        "df.columns"
      ],
      "metadata": {
        "colab": {
          "base_uri": "https://localhost:8080/"
        },
        "id": "r9MP8_Q_eeRS",
        "outputId": "37a24570-cabe-4c90-eba0-45f2b5266437"
      },
      "execution_count": 53,
      "outputs": [
        {
          "output_type": "execute_result",
          "data": {
            "text/plain": [
              "Index(['Mthly_HH_Income', 'Mthly_HH_Expense', 'No_of_Fly_Members',\n",
              "       'Emi_or_Rent_Amt', 'Annual_HH_Income', 'No_of_Earning_Members'],\n",
              "      dtype='object')"
            ]
          },
          "metadata": {},
          "execution_count": 53
        }
      ]
    },
    {
      "cell_type": "code",
      "source": [
        "num_attr=['Mthly_HH_Income', 'Mthly_HH_Expense', 'No_of_Fly_Members',\n",
        "       'Emi_or_Rent_Amt', 'Annual_HH_Income', 'No_of_Earning_Members']"
      ],
      "metadata": {
        "id": "HEd2sMrXgDg3"
      },
      "execution_count": 54,
      "outputs": []
    },
    {
      "cell_type": "code",
      "source": [
        "data_std.fit(df[num_attr])"
      ],
      "metadata": {
        "colab": {
          "base_uri": "https://localhost:8080/"
        },
        "id": "6io4k8Tpgv4O",
        "outputId": "9fb748d3-33ac-41ee-c71a-594cb6729192"
      },
      "execution_count": 55,
      "outputs": [
        {
          "output_type": "execute_result",
          "data": {
            "text/plain": [
              "StandardScaler()"
            ]
          },
          "metadata": {},
          "execution_count": 55
        }
      ]
    },
    {
      "cell_type": "code",
      "source": [
        "data_std2=data_std.transform(df[num_attr])"
      ],
      "metadata": {
        "id": "OUOH-5bng0Zn"
      },
      "execution_count": 57,
      "outputs": []
    },
    {
      "cell_type": "code",
      "source": [
        "data_std2=pd.DataFrame(data_std2, columns=num_attr)"
      ],
      "metadata": {
        "id": "cyJYD26ug6pM"
      },
      "execution_count": 58,
      "outputs": []
    },
    {
      "cell_type": "code",
      "source": [
        "sns.distplot(data_std2['Mthly_HH_Income'])"
      ],
      "metadata": {
        "colab": {
          "base_uri": "https://localhost:8080/",
          "height": 297
        },
        "id": "ZdBDKqjWg_9Z",
        "outputId": "178b080a-e91e-48d1-d7a7-fc4261ffd450"
      },
      "execution_count": 59,
      "outputs": [
        {
          "output_type": "execute_result",
          "data": {
            "text/plain": [
              "<matplotlib.axes._subplots.AxesSubplot at 0x7f612661f590>"
            ]
          },
          "metadata": {},
          "execution_count": 59
        },
        {
          "output_type": "display_data",
          "data": {
            "text/plain": [
              "<Figure size 432x288 with 1 Axes>"
            ],
            "image/png": "[encoded data removed]"
          },
          "metadata": {
            "needs_background": "light"
          }
        }
      ]
    },
    {
      "cell_type": "code",
      "source": [
        "sns.distplot(data_std2['Mthly_HH_Expense'])"
      ],
      "metadata": {
        "colab": {
          "base_uri": "https://localhost:8080/",
          "height": 300
        },
        "id": "vzNWzlonhcg0",
        "outputId": "9e2ac052-46cd-4f01-d908-0c7e1a9f9828"
      },
      "execution_count": 60,
      "outputs": [
        {
          "output_type": "execute_result",
          "data": {
            "text/plain": [
              "<matplotlib.axes._subplots.AxesSubplot at 0x7f61265adf50>"
            ]
          },
          "metadata": {},
          "execution_count": 60
        },
        {
          "output_type": "display_data",
          "data": {
            "text/plain": [
              "<Figure size 432x288 with 1 Axes>"
            ],
            "image/png": "[encoded data removed]"
          },
          "metadata": {
            "needs_background": "light"
          }
        }
      ]
    },
    {
      "cell_type": "code",
      "source": [
        "sns.distplot(data_std2['No_of_Fly_Members'])"
      ],
      "metadata": {
        "colab": {
          "base_uri": "https://localhost:8080/",
          "height": 297
        },
        "id": "HXnq8GVphhHK",
        "outputId": "7a284514-c6b6-4045-c388-673874303486"
      },
      "execution_count": 61,
      "outputs": [
        {
          "output_type": "execute_result",
          "data": {
            "text/plain": [
              "<matplotlib.axes._subplots.AxesSubplot at 0x7f612652a410>"
            ]
          },
          "metadata": {},
          "execution_count": 61
        },
        {
          "output_type": "display_data",
          "data": {
            "text/plain": [
              "<Figure size 432x288 with 1 Axes>"
            ],
            "image/png": "[encoded data removed]"
          },
          "metadata": {
            "needs_background": "light"
          }
        }
      ]
    },
    {
      "cell_type": "code",
      "source": [
        "sns.distplot(data_std2['Emi_or_Rent_Amt'])"
      ],
      "metadata": {
        "colab": {
          "base_uri": "https://localhost:8080/",
          "height": 297
        },
        "id": "Yb7vbkCJhkpH",
        "outputId": "00099724-bb04-48ff-f69a-272d3bb454eb"
      },
      "execution_count": 62,
      "outputs": [
        {
          "output_type": "execute_result",
          "data": {
            "text/plain": [
              "<matplotlib.axes._subplots.AxesSubplot at 0x7f61265f9cd0>"
            ]
          },
          "metadata": {},
          "execution_count": 62
        },
        {
          "output_type": "display_data",
          "data": {
            "text/plain": [
              "<Figure size 432x288 with 1 Axes>"
            ],
            "image/png": "[encoded data removed]"
          },
          "metadata": {
            "needs_background": "light"
          }
        }
      ]
    },
    {
      "cell_type": "code",
      "source": [
        "sns.distplot(data_std2['Annual_HH_Income'])"
      ],
      "metadata": {
        "colab": {
          "base_uri": "https://localhost:8080/",
          "height": 297
        },
        "id": "r2RD-bUfhlUk",
        "outputId": "30a183b7-60b5-4239-a0fe-fdae1f689849"
      },
      "execution_count": 63,
      "outputs": [
        {
          "output_type": "execute_result",
          "data": {
            "text/plain": [
              "<matplotlib.axes._subplots.AxesSubplot at 0x7f61267d72d0>"
            ]
          },
          "metadata": {},
          "execution_count": 63
        },
        {
          "output_type": "display_data",
          "data": {
            "text/plain": [
              "<Figure size 432x288 with 1 Axes>"
            ],
            "image/png": "[encoded data removed]"
          },
          "metadata": {
            "needs_background": "light"
          }
        }
      ]
    },
    {
      "cell_type": "code",
      "source": [
        "sns.distplot(data_std2['No_of_Earning_Members'])"
      ],
      "metadata": {
        "colab": {
          "base_uri": "https://localhost:8080/",
          "height": 300
        },
        "id": "v3QJXMzqhmDM",
        "outputId": "a2b353d2-9c32-4c45-9c4d-143ef520282e"
      },
      "execution_count": 64,
      "outputs": [
        {
          "output_type": "execute_result",
          "data": {
            "text/plain": [
              "<matplotlib.axes._subplots.AxesSubplot at 0x7f61267037d0>"
            ]
          },
          "metadata": {},
          "execution_count": 64
        },
        {
          "output_type": "display_data",
          "data": {
            "text/plain": [
              "<Figure size 432x288 with 1 Axes>"
            ],
            "image/png": "[encoded data removed]"
          },
          "metadata": {
            "needs_background": "light"
          }
        }
      ]
    },
    {
      "cell_type": "markdown",
      "source": [
        "#EFFECT ON MEAN, MEDIAN AND MODE DUE TO SKEWNESS\n",
        "Generally if the distribution of data is skewed to the left, the mean is less than the median, which is often less than the mode.\n",
        "\n",
        "$$ Mode > Median > Mean$$\n",
        "If the distribution of data is skewed to the right, the mode is often less than the median, which is less than the mean.\n",
        "\n",
        "$$ Mode < Median < Mean$$ "
      ],
      "metadata": {
        "id": "AM0tJmWxiPi8"
      }
    },
    {
      "cell_type": "markdown",
      "source": [
        "#QQ Plot and implementation of the same\n",
        "Q-Q plots are also known as Quantile-Quantile plots. As the name suggests, they plot the quantiles of a sample distribution against quantiles of a theoretical distribution. Doing this helps us determine if a dataset follows any particular type of probability distribution like normal, uniform, exponential. \n",
        "\n",
        "The power of Q-Q plots lies in their ability to summarize any distribution visually.\n",
        "\n",
        "QQ plots is very useful to determine:\n",
        "\n",
        ">If two populations are of the same distribution\n",
        "\n",
        ">If residuals follow a normal distribution. Having a normal error term is an assumption in regression and we can verify if it’s met using this.\n",
        "\n",
        ">Skewness of distribution\n",
        "In Q-Q plots, we plot the theoretical Quantile values with the sample Quantile values. Quantiles are obtained by sorting the data. It determines how many values in a distribution are above or below a certain limit."
      ],
      "metadata": {
        "id": "nQSVMxt6i3X3"
      }
    },
    {
      "cell_type": "code",
      "source": [
        "stats.probplot(data['Mthly_HH_Income'], dist=\"norm\", plot=plt)\n",
        "plt.grid()"
      ],
      "metadata": {
        "colab": {
          "base_uri": "https://localhost:8080/",
          "height": 295
        },
        "id": "OZ_umsm4iB8B",
        "outputId": "cc580044-cfcb-472d-8d20-f11f7b06856d"
      },
      "execution_count": 65,
      "outputs": [
        {
          "output_type": "display_data",
          "data": {
            "text/plain": [
              "<Figure size 432x288 with 1 Axes>"
            ],
            "image/png": "[encoded data removed]"
          },
          "metadata": {
            "needs_background": "light"
          }
        }
      ]
    },
    {
      "cell_type": "code",
      "source": [
        "stats.probplot(data['Mthly_HH_Expense'], dist=\"norm\", plot=plt)\n",
        "plt.grid()"
      ],
      "metadata": {
        "colab": {
          "base_uri": "https://localhost:8080/",
          "height": 295
        },
        "id": "8QfY7D1Bi_7B",
        "outputId": "d1e1744a-a30d-4882-c99b-4dbbb4c5af0c"
      },
      "execution_count": 66,
      "outputs": [
        {
          "output_type": "display_data",
          "data": {
            "text/plain": [
              "<Figure size 432x288 with 1 Axes>"
            ],
            "image/png": "[encoded data removed]"
          },
          "metadata": {
            "needs_background": "light"
          }
        }
      ]
    },
    {
      "cell_type": "code",
      "source": [
        "stats.probplot(data['No_of_Fly_Members'], dist=\"norm\", plot=plt)\n",
        "plt.grid()\n"
      ],
      "metadata": {
        "colab": {
          "base_uri": "https://localhost:8080/",
          "height": 295
        },
        "id": "TjzWgv_TjYhu",
        "outputId": "4f2a0a27-e008-4089-f509-f383c4ab5088"
      },
      "execution_count": 67,
      "outputs": [
        {
          "output_type": "display_data",
          "data": {
            "text/plain": [
              "<Figure size 432x288 with 1 Axes>"
            ],
            "image/png": "[encoded data removed]"
          },
          "metadata": {
            "needs_background": "light"
          }
        }
      ]
    },
    {
      "cell_type": "code",
      "source": [
        "stats.probplot(data['Emi_or_Rent_Amt'], dist=\"norm\", plot=plt)\n",
        "plt.grid()"
      ],
      "metadata": {
        "colab": {
          "base_uri": "https://localhost:8080/",
          "height": 295
        },
        "id": "58pUOwPOjb2E",
        "outputId": "6e297aa4-cd15-4cbd-f19d-b78e9c32252a"
      },
      "execution_count": 68,
      "outputs": [
        {
          "output_type": "display_data",
          "data": {
            "text/plain": [
              "<Figure size 432x288 with 1 Axes>"
            ],
            "image/png": "[encoded data removed]"
          },
          "metadata": {
            "needs_background": "light"
          }
        }
      ]
    },
    {
      "cell_type": "code",
      "source": [
        "\n",
        "stats.probplot(data['Annual_HH_Income'], dist=\"norm\", plot=plt)\n",
        "plt.grid()"
      ],
      "metadata": {
        "colab": {
          "base_uri": "https://localhost:8080/",
          "height": 295
        },
        "id": "DidJH5OXjeg1",
        "outputId": "663bdc59-10b6-455f-f67a-ac92e13f5d41"
      },
      "execution_count": 69,
      "outputs": [
        {
          "output_type": "display_data",
          "data": {
            "text/plain": [
              "<Figure size 432x288 with 1 Axes>"
            ],
            "image/png": "[encoded data removed]"
          },
          "metadata": {
            "needs_background": "light"
          }
        }
      ]
    },
    {
      "cell_type": "code",
      "source": [
        "\n",
        "stats.probplot(data['No_of_Earning_Members'], dist=\"norm\", plot=plt)\n",
        "plt.grid()"
      ],
      "metadata": {
        "colab": {
          "base_uri": "https://localhost:8080/",
          "height": 295
        },
        "id": "mGyHYQeYjgUI",
        "outputId": "4ed86fb0-4e11-4669-d709-a252e578a5c7"
      },
      "execution_count": 70,
      "outputs": [
        {
          "output_type": "display_data",
          "data": {
            "text/plain": [
              "<Figure size 432x288 with 1 Axes>"
            ],
            "image/png": "[encoded data removed]"
          },
          "metadata": {
            "needs_background": "light"
          }
        }
      ]
    },
    {
      "cell_type": "code",
      "source": [
        "#BOX PLOT\n",
        "sns.boxplot(data=df[num_attr])"
      ],
      "metadata": {
        "colab": {
          "base_uri": "https://localhost:8080/",
          "height": 294
        },
        "id": "0a5z0cT-jiui",
        "outputId": "2bcbf591-d999-4462-ce71-c040e81daec2"
      },
      "execution_count": 71,
      "outputs": [
        {
          "output_type": "execute_result",
          "data": {
            "text/plain": [
              "<matplotlib.axes._subplots.AxesSubplot at 0x7f61261bb5d0>"
            ]
          },
          "metadata": {},
          "execution_count": 71
        },
        {
          "output_type": "display_data",
          "data": {
            "text/plain": [
              "<Figure size 432x288 with 1 Axes>"
            ],
            "image/png": "[encoded data removed]"
          },
          "metadata": {
            "needs_background": "light"
          }
        }
      ]
    },
    {
      "cell_type": "markdown",
      "source": [
        "#Box Cox and implementation of the same\n",
        "When performing a linear fit of Y against X, an appropriate transformation of X can often significantly improve the fit. The Box-Cox transformation (Box and Cox, 1964) is a particularly useful family of transformations. It is defined as:\n",
        "<h2>Transformation Equation:<br><br>\n",
        "$$ T(X) = \\left\\{\\begin{array}\\\\ \\left(X^ \\lambda -1\\right)/\\lambda & \\mbox{if}\\ \\lambda \\neq {0}\\\\\n",
        "\\log {X} & \\mbox{if}\\ \\lambda = 0 \\end{array}\\right. $$ </h2>\n",
        "where X is the variable being transformed and λ is the transformation parameter. For λ = 0, the natural log of the data is taken instead of using the above formula.\n",
        "The Box-Cox linearity plot is a plot of the correlation between Y and the transformed X for given values of λ. That is, λ is the coordinate for the horizontal axis variable and the value of the correlation between Y and the transformed X is the coordinate for the vertical axis of the plot. The value of λ corresponding to the maximum correlation (or minimum for negative correlation) on the plot is then the optimal choice for λ."
      ],
      "metadata": {
        "id": "9MfQ1zeEl54j"
      }
    },
    {
      "cell_type": "code",
      "source": [
        "import numpy as np \n",
        "from scipy.stats import boxcox \n",
        "import seaborn as sns \n",
        "\n",
        "np.random.seed(0)\n",
        "\n",
        "data = np.random.exponential(size=1000)\n",
        "\n",
        "sns.distplot(data, hist=False, kde=True) "
      ],
      "metadata": {
        "colab": {
          "base_uri": "https://localhost:8080/",
          "height": 282
        },
        "id": "p-NY5sIYj24_",
        "outputId": "82d3db45-62e6-4656-acf5-6dd2e36abe73"
      },
      "execution_count": 72,
      "outputs": [
        {
          "output_type": "execute_result",
          "data": {
            "text/plain": [
              "<matplotlib.axes._subplots.AxesSubplot at 0x7f61260bdc90>"
            ]
          },
          "metadata": {},
          "execution_count": 72
        },
        {
          "output_type": "display_data",
          "data": {
            "text/plain": [
              "<Figure size 432x288 with 1 Axes>"
            ],
            "image/png": "[encoded data removed]"
          },
          "metadata": {
            "needs_background": "light"
          }
        }
      ]
    },
    {
      "cell_type": "code",
      "source": [
        "#perform Box-Cox \n",
        "transformed_data, best_lambda = boxcox(data) \n",
        "\n",
        "#plot the distribution of the transformed data \n",
        "sns.distplot(transformed_data,kde=True) "
      ],
      "metadata": {
        "colab": {
          "base_uri": "https://localhost:8080/",
          "height": 282
        },
        "id": "2vAra7IKmHbt",
        "outputId": "4d2494a6-41de-4372-d963-a65e64aaa633"
      },
      "execution_count": 74,
      "outputs": [
        {
          "output_type": "execute_result",
          "data": {
            "text/plain": [
              "<matplotlib.axes._subplots.AxesSubplot at 0x7f6126002c10>"
            ]
          },
          "metadata": {},
          "execution_count": 74
        },
        {
          "output_type": "display_data",
          "data": {
            "text/plain": [
              "<Figure size 432x288 with 1 Axes>"
            ],
            "image/png": "[encoded data removed]"
          },
          "metadata": {
            "needs_background": "light"
          }
        }
      ]
    },
    {
      "cell_type": "code",
      "source": [
        "plt.figure(figsize = (8, 8))\n",
        "data = df['Mthly_HH_Income'] \n",
        "sns.histplot(data,kde=True)\n",
        "plt.show()\n",
        "plt.figure(figsize = (8, 8))\n",
        "data = df['Mthly_HH_Expense'] \n",
        "sns.histplot(data,kde=True)\n",
        "plt.show()\n",
        "plt.figure(figsize = (8, 8))\n",
        "data = df['No_of_Fly_Members'] \n",
        "sns.histplot(data,kde=True)\n",
        "plt.show()\n",
        "plt.figure(figsize = (8, 8))\n",
        "data = df['Emi_or_Rent_Amt'] \n",
        "sns.histplot(data,kde=True)\n",
        "plt.show()\n",
        "plt.figure(figsize = (8, 8))\n",
        "data = df['Annual_HH_Income'] \n",
        "sns.histplot(data,kde=True)\n",
        "plt.show()\n",
        "plt.figure(figsize = (8, 8))\n",
        "data = df['No_of_Earning_Members'] \n",
        "sns.histplot(data,kde=True)\n",
        "plt.show()\n"
      ],
      "metadata": {
        "colab": {
          "base_uri": "https://localhost:8080/",
          "height": 1000
        },
        "id": "IY22tGC5mPLr",
        "outputId": "84969019-d511-4a4b-b0da-b04306bf2ae3"
      },
      "execution_count": 80,
      "outputs": [
        {
          "output_type": "display_data",
          "data": {
            "text/plain": [
              "<Figure size 576x576 with 1 Axes>"
            ],
            "image/png": "[encoded data removed]"
          },
          "metadata": {
            "needs_background": "light"
          }
        },
        {
          "output_type": "display_data",
          "data": {
            "text/plain": [
              "<Figure size 576x576 with 1 Axes>"
            ],
            "image/png": "[encoded data removed]"
          },
          "metadata": {
            "needs_background": "light"
          }
        },
        {
          "output_type": "display_data",
          "data": {
            "text/plain": [
              "<Figure size 576x576 with 1 Axes>"
            ],
            "image/png": "[encoded data removed]"
          },
          "metadata": {
            "needs_background": "light"
          }
        },
        {
          "output_type": "display_data",
          "data": {
            "text/plain": [
              "<Figure size 576x576 with 1 Axes>"
            ],
            "image/png": "[encoded data removed]"
          },
          "metadata": {
            "needs_background": "light"
          }
        },
        {
          "output_type": "display_data",
          "data": {
            "text/plain": [
              "<Figure size 576x576 with 1 Axes>"
            ],
            "image/png": "[encoded data removed]"
          },
          "metadata": {
            "needs_background": "light"
          }
        },
        {
          "output_type": "display_data",
          "data": {
            "text/plain": [
              "<Figure size 576x576 with 1 Axes>"
            ],
            "image/png": "[encoded data removed]"
          },
          "metadata": {
            "needs_background": "light"
          }
        }
      ]
    },
    {
      "cell_type": "code",
      "source": [
        ""
      ],
      "metadata": {
        "id": "puZHXI2qnORu"
      },
      "execution_count": null,
      "outputs": []
    }
  ]
}